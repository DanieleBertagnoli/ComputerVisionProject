{
 "cells": [
  {
   "cell_type": "markdown",
   "metadata": {},
   "source": [
    "# **Installing Requirements**\n",
    "\n",
    "Since the project is developed by different people, we will install all the requirements using the requirements.txt file which specifies all the packets' version that must be installed."
   ]
  },
  {
   "cell_type": "code",
   "execution_count": 3,
   "metadata": {},
   "outputs": [
    {
     "name": "stdout",
     "output_type": "stream",
     "text": [
      "Requirement already satisfied: numpy==1.26.2 in /home/daniele/Documents/University/ComputerScience/SY/FS/ComputerVision/ComputerVisionProject/project-venv/lib/python3.10/site-packages (from -r ../requirements.txt (line 1)) (1.26.2)\n",
      "Requirement already satisfied: opencv-python==4.8.1.78 in /home/daniele/Documents/University/ComputerScience/SY/FS/ComputerVision/ComputerVisionProject/project-venv/lib/python3.10/site-packages (from -r ../requirements.txt (line 2)) (4.8.1.78)\n",
      "Note: you may need to restart the kernel to use updated packages.\n"
     ]
    }
   ],
   "source": [
    "%pip install -r ../requirements.txt"
   ]
  },
  {
   "cell_type": "markdown",
   "metadata": {},
   "source": [
    "# **Face Recognition**\n",
    "\n",
    "Face recognition is a computer vision task that involves identifying and verifying a person's identity based on their facial features. This process can be broken down into these steps:\n",
    "\n",
    "1. **Detection**: Identifying faces in images or video frames.\n",
    "2. **Feature** Extraction: Capturing unique facial characteristics.\n",
    "3. **Representation**: Creating a distinctive template for each face.\n",
    "4. **Model Training**: Associating templates with known identities during training.\n",
    "5. **Matching**: Comparing a new face's template to stored ones for identification.\n",
    "6. **Decision**: Determining a match based on a similarity threshold.\n",
    "\n",
    "Nowadays, these steps are performed through deep learning models. In the following section we will provide a simple implementation through a pre-trained model and our paper implementation (further details in the next sections)."
   ]
  },
  {
   "cell_type": "markdown",
   "metadata": {},
   "source": [
    "## **Load all the user faces**\n",
    "\n",
    "All the registered users' face are saved into the UserFaces folder. We have to build our \"dataset\" of faces on which the recognition will be performed."
   ]
  },
  {
   "cell_type": "code",
   "execution_count": 5,
   "metadata": {},
   "outputs": [],
   "source": [
    "import os\n",
    "import cv2\n",
    "import dlib\n",
    "\n",
    "detector = dlib.get_frontal_face_detector() # Load the pre-trained face detector from dlib\n",
    "face_recognizer = dlib.shape_predictor(\"../Models/shape_predictor_68_face_landmarks.dat\") # Load the pre-trained face recognition model \n",
    "\n",
    "# Initialize lists to store known faces and their corresponding names\n",
    "known_faces = []\n",
    "known_names = []\n",
    "\n",
    "base_directory = \"../UserFaces/\" # Directory containing user faces\n",
    "\n",
    "# Iterate through directories\n",
    "for user_directory in os.listdir(base_directory):\n",
    "\n",
    "    user_path = os.path.join(base_directory, user_directory)\n",
    "\n",
    "    # Iterate through face images in each user directory\n",
    "    for filename in os.listdir(user_path):\n",
    "        image_path = os.path.join(user_path, filename)\n",
    "\n",
    "        img = cv2.imread(image_path) # Read the image\n",
    "        gray = cv2.cvtColor(img, cv2.COLOR_BGR2GRAY) # Convert it into a gray scale image\n",
    "\n",
    "        faces = detector(gray) # Detect faces in the image (there will be only one face)\n",
    "\n",
    "        if faces:\n",
    "            face_landmarks = face_recognizer(img, faces[0]) # Obtain the landmarks\n",
    "\n",
    "            # Add face landmarks and user name to the lists\n",
    "            known_faces.append(face_landmarks)\n",
    "            known_names.append(user_directory)"
   ]
  },
  {
   "cell_type": "markdown",
   "metadata": {},
   "source": [
    "## **Pre-trained Model**\n",
    "\n",
    "This model is provided by the dlib library. Dlib's face recognition model is based on classical machine learning techniques rather than deep learning. It uses a combination of HOG (Histogram of Oriented Gradients) features and a SVM (Support Vector Machine) classifier to identify and recognize faces."
   ]
  },
  {
   "cell_type": "code",
   "execution_count": 6,
   "metadata": {},
   "outputs": [
    {
     "name": "stderr",
     "output_type": "stream",
     "text": [
      "[ WARN:0@809.674] global cap_v4l.cpp:982 open VIDEOIO(V4L2:/dev/video0): can't open camera by index\n",
      "[ERROR:0@809.675] global obsensor_uvc_stream_channel.cpp:156 getStreamChannelGroup Camera index out of range\n"
     ]
    },
    {
     "ename": "error",
     "evalue": "OpenCV(4.8.1) /io/opencv/modules/imgproc/src/color.cpp:182: error: (-215:Assertion failed) !_src.empty() in function 'cvtColor'\n",
     "output_type": "error",
     "traceback": [
      "\u001b[0;31m---------------------------------------------------------------------------\u001b[0m",
      "\u001b[0;31merror\u001b[0m                                     Traceback (most recent call last)",
      "\u001b[1;32m/home/daniele/Documents/University/ComputerScience/SY/FS/ComputerVision/ComputerVisionProject/Notebooks/face_recognition.ipynb Cell 7\u001b[0m line \u001b[0;36m6\n\u001b[1;32m      <a href='vscode-notebook-cell:/home/daniele/Documents/University/ComputerScience/SY/FS/ComputerVision/ComputerVisionProject/Notebooks/face_recognition.ipynb#W5sZmlsZQ%3D%3D?line=2'>3</a>\u001b[0m \u001b[39mwhile\u001b[39;00m \u001b[39mTrue\u001b[39;00m:\n\u001b[1;32m      <a href='vscode-notebook-cell:/home/daniele/Documents/University/ComputerScience/SY/FS/ComputerVision/ComputerVisionProject/Notebooks/face_recognition.ipynb#W5sZmlsZQ%3D%3D?line=3'>4</a>\u001b[0m     ret, frame \u001b[39m=\u001b[39m cap\u001b[39m.\u001b[39mread() \u001b[39m# Read a frame from the webcam\u001b[39;00m\n\u001b[0;32m----> <a href='vscode-notebook-cell:/home/daniele/Documents/University/ComputerScience/SY/FS/ComputerVision/ComputerVisionProject/Notebooks/face_recognition.ipynb#W5sZmlsZQ%3D%3D?line=5'>6</a>\u001b[0m     gray \u001b[39m=\u001b[39m cv2\u001b[39m.\u001b[39;49mcvtColor(frame, cv2\u001b[39m.\u001b[39;49mCOLOR_BGR2GRAY) \u001b[39m# Convert the frame to grayscale for face detection\u001b[39;00m\n\u001b[1;32m      <a href='vscode-notebook-cell:/home/daniele/Documents/University/ComputerScience/SY/FS/ComputerVision/ComputerVisionProject/Notebooks/face_recognition.ipynb#W5sZmlsZQ%3D%3D?line=7'>8</a>\u001b[0m     faces \u001b[39m=\u001b[39m detector(gray) \u001b[39m# Detect faces in the frame\u001b[39;00m\n\u001b[1;32m     <a href='vscode-notebook-cell:/home/daniele/Documents/University/ComputerScience/SY/FS/ComputerVision/ComputerVisionProject/Notebooks/face_recognition.ipynb#W5sZmlsZQ%3D%3D?line=9'>10</a>\u001b[0m     \u001b[39m# Iterate over detected faces\u001b[39;00m\n",
      "\u001b[0;31merror\u001b[0m: OpenCV(4.8.1) /io/opencv/modules/imgproc/src/color.cpp:182: error: (-215:Assertion failed) !_src.empty() in function 'cvtColor'\n"
     ]
    }
   ],
   "source": [
    "cap = cv2.VideoCapture(0) # Open a connection to the webcam (0 represents the default camera)\n",
    "\n",
    "while True:\n",
    "    ret, frame = cap.read() # Read a frame from the webcam\n",
    "\n",
    "    gray = cv2.cvtColor(frame, cv2.COLOR_BGR2GRAY) # Convert the frame to grayscale for face detection\n",
    "    \n",
    "    faces = detector(gray) # Detect faces in the frame\n",
    "\n",
    "    # Iterate over detected faces\n",
    "    for face in faces:\n",
    "        landmarks = face_recognizer(frame, face) # Get facial landmarks\n",
    "\n",
    "        # Compare with known faces\n",
    "        for i, known_face in enumerate(known_faces):\n",
    "\n",
    "            if landmarks == known_face:\n",
    "                name = known_names[i]\n",
    "                print(f\"Hello, {name}!\")\n",
    "\n",
    "        # Draw a rectangle around the face\n",
    "        x, y, w, h = face.left(), face.top(), face.width(), face.height()\n",
    "        cv2.rectangle(frame, (x, y), (x + w, y + h), (0, 255, 0), 2)\n",
    "\n",
    "    # Display the result\n",
    "    cv2.imshow(\"Face Recognition\", frame)\n",
    "\n",
    "    if cv2.waitKey(1) & 0xFF == ord('q'): # Break the loop if the 'q' key is pressed\n",
    "        break\n",
    "\n",
    "# Release the webcam and close all windows\n",
    "cap.release()\n",
    "cv2.destroyAllWindows()\n"
   ]
  }
 ],
 "metadata": {
  "kernelspec": {
   "display_name": "project-venv",
   "language": "python",
   "name": "python3"
  },
  "language_info": {
   "codemirror_mode": {
    "name": "ipython",
    "version": 3
   },
   "file_extension": ".py",
   "mimetype": "text/x-python",
   "name": "python",
   "nbconvert_exporter": "python",
   "pygments_lexer": "ipython3",
   "version": "3.10.12"
  }
 },
 "nbformat": 4,
 "nbformat_minor": 2
}
