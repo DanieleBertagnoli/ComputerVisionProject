{
 "cells": [
  {
   "cell_type": "code",
   "execution_count": null,
   "metadata": {},
   "outputs": [],
   "source": [
    "# FOR WINDOWS (your env must be called project-venv; if you choose another name add it in .gitignore)\n",
    "import subprocess\n",
    "\n",
    "# Set the execution policy\n",
    "subprocess.run([\"Set-ExecutionPolicy\", \"RemoteSigned\", \"-Scope\", \"Process\"], shell=True)\n",
    "\n",
    "# Activate the virtual environment\n",
    "subprocess.run([\"cd\", \".\\\\project-venv\\\\\"], shell=True)\n",
    "subprocess.run([\".\\\\Scripts\\\\Activate.ps1\"], shell=True)\n",
    "\n",
    "# Install requirements\n",
    "subprocess.run([\"pip\", \"install\", \"-r\", \"../requirements.txt\"], shell=True)"
   ]
  },
  {
   "cell_type": "markdown",
   "metadata": {},
   "source": [
    "# **Emotion Recognition task**"
   ]
  },
  {
   "cell_type": "markdown",
   "metadata": {},
   "source": [
    "**import packages**"
   ]
  },
  {
   "cell_type": "code",
   "execution_count": 1,
   "metadata": {},
   "outputs": [],
   "source": [
    "import cv2\n",
    "import os\n",
    "import random\n",
    "import numpy as np\n",
    "from scipy.ndimage import gaussian_filter, map_coordinates\n",
    "import torch\n",
    "import torch.nn as nn\n",
    "from sklearn.cluster import DBSCAN\n",
    "from torch.utils.data import random_split, ConcatDataset\n",
    "from torchvision.datasets import ImageFolder\n",
    "from torchvision import transforms\n",
    "from torch.utils.data import DataLoader\n",
    "from sklearn.model_selection import train_test_split\n",
    "from torch.utils.data.sampler import SubsetRandomSampler\n",
    "from torch.optim import SGD\n",
    "from torch.optim.lr_scheduler import ReduceLROnPlateau\n",
    "from sklearn.metrics import precision_recall_fscore_support, accuracy_score\n",
    "from tqdm import tqdm\n",
    "import dlib\n",
    "from PIL import Image\n",
    "import wandb"
   ]
  },
  {
   "cell_type": "markdown",
   "metadata": {},
   "source": [
    "**wandb login**"
   ]
  },
  {
   "cell_type": "code",
   "execution_count": 2,
   "metadata": {},
   "outputs": [
    {
     "name": "stderr",
     "output_type": "stream",
     "text": [
      "Failed to detect the name of this notebook, you can set it manually with the WANDB_NOTEBOOK_NAME environment variable to enable code saving.\n",
      "\u001b[34m\u001b[1mwandb\u001b[0m: Currently logged in as: \u001b[33mmarco_guarino\u001b[0m (\u001b[33mcomputer_visionistici\u001b[0m). Use \u001b[1m`wandb login --relogin`\u001b[0m to force relogin\n",
      "\u001b[34m\u001b[1mwandb\u001b[0m: \u001b[33mWARNING\u001b[0m If you're specifying your api key in code, ensure this code is not shared publicly.\n",
      "\u001b[34m\u001b[1mwandb\u001b[0m: \u001b[33mWARNING\u001b[0m Consider setting the WANDB_API_KEY environment variable, or running `wandb login` from the command line.\n",
      "\u001b[34m\u001b[1mwandb\u001b[0m: Appending key for api.wandb.ai to your netrc file: C:\\Users\\marco/.netrc\n"
     ]
    },
    {
     "data": {
      "text/plain": [
       "True"
      ]
     },
     "execution_count": 2,
     "metadata": {},
     "output_type": "execute_result"
    }
   ],
   "source": [
    "wandb.login(key='fdaf4406bdf6e269b286a9346e1594b1308956cc')"
   ]
  },
  {
   "cell_type": "markdown",
   "metadata": {},
   "source": [
    "## **Paper implementation 1**\n",
    "https://ieeexplore.ieee.org/abstract/document/9659697?casa_token=zDD7lwwOig8AAAAA:KcIHhupXAXgiaB_C7A0uNDB7ehrsWNyovQdgDu9LmnwToOGU6akB_gjWTy7JCf4UdKK03Is\n",
    "\n",
    "https://github.com/serengil/deepface"
   ]
  },
  {
   "cell_type": "markdown",
   "metadata": {},
   "source": [
    "### **Dataset Augmenting**\n",
    "\n",
    "#### **Objective:**\n",
    "The purpose of this Python script is to perform data augmentation on a dataset of images corresponding to different emotions. Data augmentation is a technique commonly used in computer vision tasks to increase the diversity of the training dataset, thereby enhancing the robustness and generalization capabilities of machine learning models.\n",
    "\n",
    "#### **Dataset Structure:**\n",
    "The original dataset is organized into folders, each representing a specific emotion (e.g., angry, disgust, fear, happy, neutral, sad, surprise). Each emotion folder contains a collection of images in formats such as JPEG and PNG.\n",
    "\n",
    "#### **Transformation Techniques:**\n",
    "The script employs various image transformation techniques to augment the dataset. These techniques include:\n",
    "\n",
    "1. **Horizontal Flip:** Flips the image horizontally.\n",
    "2. **Vertical Flip:** Flips the image vertically.\n",
    "3. **Zoom:** Randomly zooms into or out of the image.\n",
    "4. **Translation:** Shifts the image horizontally and vertically.\n",
    "5. **Contrast and Brightness Adjustment:** Randomly adjusts the contrast and brightness of the image.\n",
    "6. **Elastic Transformation:** Applies a non-linear elastic deformation to the image.\n",
    "\n",
    "#### **Implementation:**\n",
    "The script uses the OpenCV library for image processing. For each emotion category, it iterates through the images, applies the defined transformations using the `apply_transformations` function, and saves the augmented images in a new folder named with the emotion followed by \"_augmented.\"\n",
    "\n",
    "The `elastic_transform` function generates an elastic transformation by displacing pixels based on random elastic deformations. This adds a degree of distortion to the images, contributing to further variability.\n",
    "\n",
    "#### **Output:**\n",
    "The augmented images are saved in the corresponding emotion's augmented folder, with filenames indicating the applied augmentation technique. For example, an image originally named \"example_image.jpg\" may result in augmented images like \"example_image_aug_0.jpg,\" \"example_image_aug_1.jpg,\" etc."
   ]
  },
  {
   "cell_type": "code",
   "execution_count": 3,
   "metadata": {},
   "outputs": [],
   "source": [
    "emotions = ['angry', 'disgust', 'fear', 'happy', 'neutral', 'sad', 'surprise']\n",
    "\n",
    "# cycle through emotions\n",
    "for emotion in emotions:\n",
    "    # path of the folder containing the images\n",
    "    folder_path = f\"../../../Data/emotions_images/{emotion}\"\n",
    "    output_folder_path = f\"../../../Data/emotions_aug_images/{emotion}_augmented\"\n",
    "\n",
    "\n",
    "    if not os.path.exists(output_folder_path):\n",
    "        os.makedirs(output_folder_path)\n",
    "\n",
    "    # list of images in the folder\n",
    "    image_files = [f for f in os.listdir(folder_path) if f.endswith(('.jpg', '.jpeg', '.png'))]\n",
    "\n",
    "    # define transformations inside the apply_transformations function\n",
    "    def apply_transformations(image):\n",
    "        # horizontal_flip\n",
    "        flipped_horizontal = cv2.flip(image, 1)\n",
    "\n",
    "        # vertical flip\n",
    "        flipped_vertical = cv2.flip(image, 0)\n",
    "\n",
    "        # Zoom\n",
    "        zoom_factor = random.uniform(0.8, 1.2)\n",
    "        height, width = image.shape[:2]\n",
    "        zoomed_image = cv2.resize(image, (int(width * zoom_factor), int(height * zoom_factor)))\n",
    "\n",
    "        # translation\n",
    "        tx = random.randint(-10, 10)\n",
    "        ty = random.randint(-10, 10)\n",
    "        translation_matrix = np.float32([[1, 0, tx], [0, 1, ty]])\n",
    "        translated_image = cv2.warpAffine(image, translation_matrix, (width, height))\n",
    "\n",
    "        # contrast and brightness control\n",
    "        alpha = random.uniform(0.8, 1.2)\n",
    "        beta = random.randint(-35, 35)\n",
    "        adjusted_image = cv2.convertScaleAbs(image, alpha=alpha, beta=beta)\n",
    "\n",
    "        # elastic transformation\n",
    "        elastic_image = elastic_transform(image, alpha=random.randint(6, 14), sigma=random.uniform(1.1, 2.0))\n",
    "\n",
    "        return [image, translated_image, flipped_horizontal, zoomed_image, adjusted_image, elastic_image] #forse togliere flipped vertical\n",
    "\n",
    "    def elastic_transform(image, alpha, sigma):\n",
    "        random_state = np.random.RandomState(None)\n",
    "        shape = image.shape\n",
    "        dx = gaussian_filter((random_state.rand(*shape) * 2 - 1), sigma, mode=\"constant\", cval=0) * alpha\n",
    "        dy = gaussian_filter((random_state.rand(*shape) * 2 - 1), sigma, mode=\"constant\", cval=0) * alpha\n",
    "        dz = np.zeros_like(dx)\n",
    "\n",
    "        x, y, z = np.meshgrid(np.arange(shape[1]), np.arange(shape[0]), np.arange(shape[2]))\n",
    "        indices = np.reshape(y + dy, (-1, 1)), np.reshape(x + dx, (-1, 1)), np.reshape(z + dz, (-1, 1))\n",
    "\n",
    "        distorted_image = map_coordinates(image, indices, order=1, mode='reflect')\n",
    "        distorted_image = distorted_image.reshape(image.shape)\n",
    "\n",
    "        return distorted_image\n",
    "\n",
    "    # apply data augmentation\n",
    "    for image_file in image_files:\n",
    "        image_path = os.path.join(folder_path, image_file)\n",
    "        image = cv2.imread(image_path)\n",
    "\n",
    "        augmented_images = apply_transformations(image)\n",
    "\n",
    "        # save new images\n",
    "        base_name = os.path.splitext(image_file)[0]\n",
    "        for i, augmented_image in enumerate(augmented_images):\n",
    "            output_file_path = os.path.join(output_folder_path, f\"{base_name}_aug_{i}.jpg\")\n",
    "            cv2.imwrite(output_file_path, augmented_image)"
   ]
  },
  {
   "cell_type": "markdown",
   "metadata": {},
   "source": [
    "### **CNN Architecture: EmotionCNN**\n",
    "\n",
    "#### **Overview:**\n",
    "The `EmotionCNN` model is designed for emotion classification using a Convolutional Neural Network (CNN). Below is an overview of its architecture:\n",
    "\n",
    "#### **Architecture Layers:**\n",
    "\n",
    "1. **Input Layer:**\n",
    "   - Input channels: 1 (grayscale images)\n",
    "   - Input size: Variable (depends on the input image size)\n",
    "\n",
    "2. **Convolutional Layer 1:**\n",
    "   - Convolutional operation: 64 filters of size 5x5\n",
    "   - Activation function: ReLU\n",
    "   - Max pooling: 5x5 kernel with stride 2\n",
    "\n",
    "3. **Convolutional Layers 2a and 2b:**\n",
    "   - Convolutional operation: 64 filters of size 3x3\n",
    "   - Activation functions: ReLU for both layers\n",
    "   - Average pooling: 3x3 kernel with stride 2\n",
    "\n",
    "4. **Convolutional Layers 3a and 3b:**\n",
    "   - Convolutional operation: 128 filters of size 3x3\n",
    "   - Activation functions: ReLU for both layers\n",
    "   - Average pooling: 3x3 kernel with stride 2\n",
    "\n",
    "5. **Fully Connected (FC) Layer 1:**\n",
    "   - Units: 1024\n",
    "   - Activation function: ReLU\n",
    "   - Dropout: 20% dropout rate\n",
    "\n",
    "6. **Fully Connected (FC) Layer 2:**\n",
    "   - Units: 1024\n",
    "   - Activation function: ReLU\n",
    "   - Dropout: 20% dropout rate\n",
    "\n",
    "7. **Output Layer:**\n",
    "   - Units: Variable (depends on the number of emotion classes)\n",
    "   - Activation function: Softmax\n",
    "\n",
    "#### **Additional Information:**\n",
    "- The architecture is designed for grayscale images (1 channel).\n",
    "- The network utilizes ReLU activation functions after convolutional and fully connected layers.\n",
    "- Max pooling and average pooling layers are employed for down-sampling.\n",
    "- Dropout layers (20% dropout rate) are included for regularization.\n",
    "- The final layer uses the softmax activation for multiclass classification."
   ]
  },
  {
   "cell_type": "code",
   "execution_count": 2,
   "metadata": {},
   "outputs": [],
   "source": [
    "class EmotionCNN(nn.Module):\n",
    "    def __init__(self, num_classes=7):\n",
    "        super(EmotionCNN, self).__init__()\n",
    "        \n",
    "        self.conv1 = nn.Conv2d(1, 64, kernel_size=5, stride=1, padding=0)\n",
    "        self.relu1 = nn.ReLU()\n",
    "        self.maxpool1 = nn.MaxPool2d(kernel_size=5, stride=2)\n",
    "        \n",
    "        self.conv2a = nn.Conv2d(64, 64, kernel_size=3, stride=1, padding=1)\n",
    "        self.relu2a = nn.ReLU()\n",
    "        self.conv2b = nn.Conv2d(64, 64, kernel_size=3, stride=1, padding=1)\n",
    "        self.relu2b = nn.ReLU()\n",
    "        self.avgpool2 = nn.AvgPool2d(kernel_size=3, stride=2)\n",
    "        \n",
    "        self.conv3a = nn.Conv2d(64, 128, kernel_size=3, stride=1, padding=1)\n",
    "        self.relu3a = nn.ReLU()\n",
    "        self.conv3b = nn.Conv2d(128, 128, kernel_size=3, stride=1, padding=1)\n",
    "        self.relu3b = nn.ReLU()\n",
    "        self.avgpool3 = nn.AvgPool2d(kernel_size=3, stride=2)\n",
    "        \n",
    "        # verify the output size of conv2 and conv3\n",
    "        self.dummy_input = torch.randn(1, 1, 48, 48)\n",
    "        self.dummy_output_size = self._get_conv_output_size(self.dummy_input)\n",
    "        \n",
    "        # update fc1 units based on feature map size\n",
    "        self.fc1 = nn.Linear(self.dummy_output_size, 1024)\n",
    "        self.relu_fc1 = nn.ReLU()\n",
    "        self.dropout1 = nn.Dropout(0.2)\n",
    "        \n",
    "        self.fc2 = nn.Linear(1024, 1024)\n",
    "        self.relu_fc2 = nn.ReLU()\n",
    "        self.dropout2 = nn.Dropout(0.2)\n",
    "        \n",
    "        self.fc3 = nn.Linear(1024, num_classes)\n",
    "        self.softmax = nn.Softmax(dim=1)\n",
    "\n",
    "    def _get_conv_output_size(self, input_tensor):\n",
    "        x = self.maxpool1(self.relu1(self.conv1(input_tensor)))\n",
    "        x = self.relu2a(self.conv2a(x))\n",
    "        x = self.relu2b(self.conv2b(x))\n",
    "        x = self.avgpool2(x)\n",
    "        x = self.relu3a(self.conv3a(x))\n",
    "        x = self.relu3b(self.conv3b(x))\n",
    "        x = self.avgpool3(x)\n",
    "        return x.view(x.size(0), -1).size(1)\n",
    "\n",
    "    def forward(self, x):\n",
    "        x = self.maxpool1(self.relu1(self.conv1(x)))\n",
    "        x = self.relu2a(self.conv2a(x))\n",
    "        x = self.relu2b(self.conv2b(x))\n",
    "        x = self.avgpool2(x)\n",
    "        x = self.relu3a(self.conv3a(x))\n",
    "        x = self.relu3b(self.conv3b(x))\n",
    "        x = self.avgpool3(x)\n",
    "        x = x.view(x.size(0), -1)\n",
    "        x = self.dropout1(self.relu_fc1(self.fc1(x)))\n",
    "        x = self.dropout2(self.relu_fc2(self.fc2(x)))\n",
    "        x = self.softmax(self.fc3(x))\n",
    "        return x"
   ]
  },
  {
   "cell_type": "markdown",
   "metadata": {},
   "source": [
    "### **Hyperparameters**\n",
    "\n",
    "The parameters that can be modified before performing training are the number of instances per label, the batch size and the number of epochs (in this case they are managed by wandb)"
   ]
  },
  {
   "cell_type": "code",
   "execution_count": 4,
   "metadata": {},
   "outputs": [],
   "source": [
    "#number_instances_over_under_sampling_ = 30000\n",
    "#batch_size_ = 48\n",
    "#epochs_ = 20"
   ]
  },
  {
   "cell_type": "markdown",
   "metadata": {},
   "source": [
    "### **Delete Outliers with DBSCAN**\n",
    "\n",
    "#### **Objective:**\n",
    "The Python script is designed to identify and remove outliers from a collection of images using the Density-Based Spatial Clustering of Applications with Noise (DBSCAN) algorithm. The primary goal is to filter out images with unusual pixel statistics, specifically focusing on standard deviation.\n",
    "\n",
    "#### **Functions:**\n",
    "\n",
    "1. **`calculate_pixel_std(image_path):`**\n",
    "   - **Input:** Path to an image file.\n",
    "   - **Output:** Returns the standard deviation of pixel values in the grayscale image.\n",
    "\n",
    "2. **`remove_outliers_dbscan(folder_path, eps, min_samples):`**\n",
    "   - **Input:**\n",
    "     - `folder_path`: Path to the folder containing images.\n",
    "     - `eps`: DBSCAN search radius parameter.\n",
    "     - `min_samples`: Minimum number of samples required for a cluster in DBSCAN.\n",
    "   - **Action:**\n",
    "     - Calculates the pixel standard deviation for each image in the folder.\n",
    "     - Applies DBSCAN to cluster images based on pixel standard deviation.\n",
    "     - Removes outliers (images with label -1) by deleting them from the folder.\n",
    "   - **Output:** Prints the number of outliers removed.\n",
    "\n",
    "#### **Usage:**\n",
    "\n",
    "1. Set the DBSCAN configuration parameters:\n",
    "   - `dbscan_eps`: DBSCAN search radius.\n",
    "   - `dbscan_min_samples`: Minimum number of samples required for a cluster.\n",
    "\n",
    "2. Provide the path to the folder containing emotion-specific image folders (`emotions_folder_path`).\n",
    "\n",
    "3. Iterate through each emotion folder:\n",
    "   - If the emotion is 'disgust,' use different DBSCAN parameters.\n",
    "   - Apply `remove_outliers_dbscan` to delete outliers in each emotion folder.\n",
    "\n",
    "4. The script prints the number of outliers removed for each emotion."
   ]
  },
  {
   "cell_type": "code",
   "execution_count": 6,
   "metadata": {},
   "outputs": [
    {
     "name": "stdout",
     "output_type": "stream",
     "text": [
      "angry_augmented\n",
      "34\n",
      "disgust_augmented\n",
      "51\n",
      "fear_augmented\n",
      "54\n",
      "happy_augmented\n",
      "49\n",
      "neutral_augmented\n",
      "43\n",
      "sad_augmented\n",
      "36\n",
      "surprise_augmented\n",
      "35\n"
     ]
    }
   ],
   "source": [
    "def calculate_pixel_std(image_path):\n",
    "    image = cv2.imread(image_path, cv2.IMREAD_GRAYSCALE)\n",
    "    return np.std(image)\n",
    "\n",
    "def remove_outliers_dbscan(folder_path, eps, min_samples):\n",
    "    images = []\n",
    "    for filename in os.listdir(folder_path):\n",
    "        image_path = os.path.join(folder_path, filename)\n",
    "        pixel_std = calculate_pixel_std(image_path)\n",
    "        images.append([pixel_std])\n",
    "\n",
    "    images = np.array(images)\n",
    "\n",
    "    # dbscan to identify outliers\n",
    "    dbscan = DBSCAN(eps=eps, min_samples=min_samples)\n",
    "    labels = dbscan.fit_predict(images)\n",
    "\n",
    "    # remove outliers\n",
    "    counter = 0\n",
    "    for i, (label, image) in enumerate(zip(labels, os.listdir(folder_path))):\n",
    "        if label == -1:  \n",
    "            image_path = os.path.join(folder_path, image)\n",
    "            os.remove(image_path)\n",
    "            counter += 1\n",
    "    print(counter)\n",
    "\n",
    "# DBSCAN configuration\n",
    "dbscan_eps = 0.5  # search radius\n",
    "dbscan_min_samples = 10  # minimum number of samples required for a cluster\n",
    "\n",
    "emotions_folder_path = \"../../../Data/emotions_aug_images\"\n",
    "\n",
    "\n",
    "for emotion in os.listdir(emotions_folder_path):\n",
    "    emotion_folder_path = os.path.join(emotions_folder_path, emotion)\n",
    "    print(emotion)\n",
    "    \n",
    "    if emotion == 'disgust':\n",
    "        tmp_folder_path = emotion_folder_path \n",
    "        remove_outliers_dbscan(tmp_folder_path, 0.5, 10)\n",
    "    else:\n",
    "        remove_outliers_dbscan(emotion_folder_path, dbscan_eps, dbscan_min_samples)"
   ]
  },
  {
   "cell_type": "markdown",
   "metadata": {},
   "source": [
    "Print the path and the number of the outliers per class"
   ]
  },
  {
   "cell_type": "code",
   "execution_count": 7,
   "metadata": {},
   "outputs": [
    {
     "name": "stdout",
     "output_type": "stream",
     "text": [
      "angry_augmented\n",
      "disgust_augmented\n",
      "fear_augmented\n",
      "happy_augmented\n",
      "neutral_augmented\n",
      "sad_augmented\n",
      "surprise_augmented\n"
     ]
    }
   ],
   "source": [
    "def calculate_pixel_std(image_path):\n",
    "    image = cv2.imread(image_path, cv2.IMREAD_GRAYSCALE)\n",
    "    return np.std(image)\n",
    "\n",
    "def get_outliers_dbscan(folder_path, eps, min_samples):\n",
    "    images = []\n",
    "    image_paths = []\n",
    "\n",
    "    for filename in os.listdir(folder_path):\n",
    "        image_path = os.path.join(folder_path, filename)\n",
    "        pixel_std = calculate_pixel_std(image_path)\n",
    "        images.append([pixel_std])\n",
    "        image_paths.append(image_path)\n",
    "\n",
    "    images = np.array(images)\n",
    "\n",
    "    # dbscan to identify outliers\n",
    "    dbscan = DBSCAN(eps=eps, min_samples=min_samples)\n",
    "    labels = dbscan.fit_predict(images)\n",
    "\n",
    "    # collect outlier paths and count for each label\n",
    "    outlier_paths_by_label = {}\n",
    "    for label, image_path in zip(labels, image_paths):\n",
    "        if label == -1:\n",
    "            if label not in outlier_paths_by_label:\n",
    "                outlier_paths_by_label[label] = []\n",
    "            outlier_paths_by_label[label].append(image_path)\n",
    "\n",
    "    return outlier_paths_by_label\n",
    "\n",
    "# Configurazione DBSCAN\n",
    "dbscan_eps = 0.5  # Raggio di ricerca\n",
    "dbscan_min_samples = 10  # Numero minimo di campioni in un cluster\n",
    "\n",
    "emotions_folder_path = \"../../../Data/emotions_aug_images\"\n",
    "\n",
    "for emotion in os.listdir(emotions_folder_path):\n",
    "    emotion_folder_path = os.path.join(emotions_folder_path, emotion)\n",
    "    print(emotion)\n",
    "\n",
    "    if emotion == 'disgust':\n",
    "        tmp_folder_path = emotion_folder_path \n",
    "        outliers = get_outliers_dbscan(tmp_folder_path, 0.5, 10)\n",
    "    else:\n",
    "        outliers = get_outliers_dbscan(emotion_folder_path, dbscan_eps, dbscan_min_samples)\n",
    "\n",
    "    # Stampa i percorsi degli outliers per ogni label\n",
    "    for label, outlier_paths in outliers.items():\n",
    "        print(f\"Label {label}: {len(outlier_paths)} outliers\")\n",
    "        for path in outlier_paths:\n",
    "            print(path)"
   ]
  },
  {
   "cell_type": "markdown",
   "metadata": {},
   "source": [
    "### **Emotion Recognition Training and Evaluation**\n",
    "\n",
    "This code performs emotion recognition using a Convolutional Neural Network (CNN). Key components include:\n",
    "\n",
    "- **Emotion Label Mapping**: Emotions are mapped to numerical values for training and evaluation.\n",
    "- **Model Definition and Setup**: A CNN model, along with the criterion, optimizer, and scheduler, is defined.\n",
    "- **Metrics Calculation**: The `calculate_metrics_per_class` function computes accuracy, precision, recall, F1 score, and support for each class.\n",
    "- **Training Function**: The `train_epoch` function trains the model for one epoch, logging loss, accuracy, and metrics per class.\n",
    "- **Evaluation Function**: The `evaluate` function assesses the model on the validation set, calculating loss, accuracy, and metrics per class.\n",
    "- **Test Function**: The `test` function evaluates the model on the test set, providing loss, accuracy, and metrics per class.\n",
    "- **Training and Evaluation Process**: The `train_and_evaluate` function orchestrates the entire process. It initializes WandB, sets up data transformations, creates weighted random samplers for handling class imbalances, and conducts training and validation. The best model is saved, and evaluation metrics are logged.\n",
    "- **Hyperparameter Sweep Configuration**: The code supports hyperparameter optimization using WandB sweeps. Parameters include the number of instances for over/under-sampling, batch size, and epochs.\n",
    "\n",
    "#### Data Preprocessing\n",
    "\n",
    "Two datasets are utilized with different transformations, addressing grayscale, resizing, and normalization. Weighted random samplers handle class imbalances.\n",
    "\n",
    "#### Training Process\n",
    "\n",
    "The training process involves iterating through epochs, training on the specified dataset, and evaluating on validation data. Early stopping is implemented to prevent overfitting.\n",
    "\n",
    "#### Logging and Visualization\n",
    "\n",
    "WandB is integrated for experiment tracking. Metrics such as loss, accuracy, and metrics per class are logged during training and evaluation."
   ]
  },
  {
   "cell_type": "code",
   "execution_count": 4,
   "metadata": {},
   "outputs": [
    {
     "name": "stdout",
     "output_type": "stream",
     "text": [
      "Create sweep with ID: 3x7s5rxc\n",
      "Sweep URL: https://wandb.ai/computer_visionistici/provaA1/sweeps/3x7s5rxc\n"
     ]
    },
    {
     "name": "stderr",
     "output_type": "stream",
     "text": [
      "\u001b[34m\u001b[1mwandb\u001b[0m: Agent Starting Run: gb2c8pbp with config:\n",
      "\u001b[34m\u001b[1mwandb\u001b[0m: \tbatch_size_: 32\n",
      "\u001b[34m\u001b[1mwandb\u001b[0m: \tepochs_: 15\n",
      "\u001b[34m\u001b[1mwandb\u001b[0m: \tnumber_instances_over_under_sampling_: 20000\n",
      "Failed to detect the name of this notebook, you can set it manually with the WANDB_NOTEBOOK_NAME environment variable to enable code saving.\n",
      "\u001b[34m\u001b[1mwandb\u001b[0m: \u001b[33mWARNING\u001b[0m Ignored wandb.init() arg project when running a sweep.\n"
     ]
    },
    {
     "data": {
      "text/html": [
       "Tracking run with wandb version 0.16.1"
      ],
      "text/plain": [
       "<IPython.core.display.HTML object>"
      ]
     },
     "metadata": {},
     "output_type": "display_data"
    },
    {
     "data": {
      "text/html": [
       "Run data is saved locally in <code>c:\\Users\\marco\\OneDrive\\Documenti\\CV_project\\ComputerVisionProject\\Notebooks\\emotion_recognition\\paper1\\wandb\\run-20231228_200603-gb2c8pbp</code>"
      ],
      "text/plain": [
       "<IPython.core.display.HTML object>"
      ]
     },
     "metadata": {},
     "output_type": "display_data"
    },
    {
     "data": {
      "text/html": [
       "Syncing run <strong><a href='https://wandb.ai/computer_visionistici/provaA1/runs/gb2c8pbp' target=\"_blank\">crisp-sweep-1</a></strong> to <a href='https://wandb.ai/computer_visionistici/provaA1' target=\"_blank\">Weights & Biases</a> (<a href='https://wandb.me/run' target=\"_blank\">docs</a>)<br/>Sweep page: <a href='https://wandb.ai/computer_visionistici/provaA1/sweeps/3x7s5rxc' target=\"_blank\">https://wandb.ai/computer_visionistici/provaA1/sweeps/3x7s5rxc</a>"
      ],
      "text/plain": [
       "<IPython.core.display.HTML object>"
      ]
     },
     "metadata": {},
     "output_type": "display_data"
    },
    {
     "data": {
      "text/html": [
       " View project at <a href='https://wandb.ai/computer_visionistici/provaA1' target=\"_blank\">https://wandb.ai/computer_visionistici/provaA1</a>"
      ],
      "text/plain": [
       "<IPython.core.display.HTML object>"
      ]
     },
     "metadata": {},
     "output_type": "display_data"
    },
    {
     "data": {
      "text/html": [
       " View sweep at <a href='https://wandb.ai/computer_visionistici/provaA1/sweeps/3x7s5rxc' target=\"_blank\">https://wandb.ai/computer_visionistici/provaA1/sweeps/3x7s5rxc</a>"
      ],
      "text/plain": [
       "<IPython.core.display.HTML object>"
      ]
     },
     "metadata": {},
     "output_type": "display_data"
    },
    {
     "data": {
      "text/html": [
       " View run at <a href='https://wandb.ai/computer_visionistici/provaA1/runs/gb2c8pbp' target=\"_blank\">https://wandb.ai/computer_visionistici/provaA1/runs/gb2c8pbp</a>"
      ],
      "text/plain": [
       "<IPython.core.display.HTML object>"
      ]
     },
     "metadata": {},
     "output_type": "display_data"
    },
    {
     "name": "stderr",
     "output_type": "stream",
     "text": [
      "c:\\Users\\marco\\OneDrive\\Documenti\\CV_project\\ComputerVisionProject\\project-venv\\lib\\site-packages\\sklearn\\metrics\\_classification.py:1471: UndefinedMetricWarning: Precision and F-score are ill-defined and being set to 0.0 in labels with no predicted samples. Use `zero_division` parameter to control this behavior.\n",
      "  _warn_prf(average, modifier, msg_start, len(result))\n",
      "c:\\Users\\marco\\OneDrive\\Documenti\\CV_project\\ComputerVisionProject\\project-venv\\lib\\site-packages\\sklearn\\metrics\\_classification.py:1471: UndefinedMetricWarning: Precision and F-score are ill-defined and being set to 0.0 in labels with no predicted samples. Use `zero_division` parameter to control this behavior.\n",
      "  _warn_prf(average, modifier, msg_start, len(result))\n"
     ]
    },
    {
     "name": "stdout",
     "output_type": "stream",
     "text": [
      "Epoch 1/15 => Train Loss: 1.9444, Train Accuracy: 0.1491\n",
      "Angry: Train Precision: 0.1597, Train Recall: 0.0741, Train F1: 0.1012, Train Support: 16163\n",
      "Disgust: Train Precision: 0.0000, Train Recall: 0.0000, Train F1: 0.0000, Train Support: 15870\n",
      "Fear: Train Precision: 0.1159, Train Recall: 0.0017, Train F1: 0.0033, Train Support: 16006\n",
      "Happy: Train Precision: 0.0000, Train Recall: 0.0000, Train F1: 0.0000, Train Support: 15886\n",
      "Neutral: Train Precision: 0.2033, Train Recall: 0.0078, Train F1: 0.0151, Train Support: 15980\n",
      "Sad: Train Precision: 0.1401, Train Recall: 0.0851, Train F1: 0.1059, Train Support: 15859\n",
      "Surprise: Train Precision: 0.1489, Train Recall: 0.8622, Train F1: 0.2539, Train Support: 16236\n",
      "Validation Loss: 1.9359, Validation Accuracy: 0.1766\n",
      "Angry: Validation Precision: 0.1686, Validation Recall: 0.4049, Validation F1: 0.2381, Validation Support: 2045\n",
      "Disgust: Validation Precision: 0.0000, Validation Recall: 0.0000, Validation F1: 0.0000, Validation Support: 1993\n",
      "Fear: Validation Precision: 0.0000, Validation Recall: 0.0000, Validation F1: 0.0000, Validation Support: 1950\n",
      "Happy: Validation Precision: 0.0000, Validation Recall: 0.0000, Validation F1: 0.0000, Validation Support: 2006\n",
      "Neutral: Validation Precision: 0.0000, Validation Recall: 0.0000, Validation F1: 0.0000, Validation Support: 2004\n",
      "Sad: Validation Precision: 0.0000, Validation Recall: 0.0000, Validation F1: 0.0000, Validation Support: 2012\n",
      "Surprise: Validation Precision: 0.1810, Validation Recall: 0.8266, Validation F1: 0.2969, Validation Support: 1990\n"
     ]
    },
    {
     "name": "stderr",
     "output_type": "stream",
     "text": [
      "                                                             \r"
     ]
    },
    {
     "name": "stdout",
     "output_type": "stream",
     "text": [
      "Epoch 2/15 => Train Loss: 1.9058, Train Accuracy: 0.2223\n",
      "Angry: Train Precision: 0.1910, Train Recall: 0.1973, Train F1: 0.1941, Train Support: 15993\n",
      "Disgust: Train Precision: 0.2036, Train Recall: 0.0922, Train F1: 0.1270, Train Support: 16001\n",
      "Fear: Train Precision: 0.1657, Train Recall: 0.0277, Train F1: 0.0474, Train Support: 15973\n",
      "Happy: Train Precision: 0.2508, Train Recall: 0.2109, Train F1: 0.2291, Train Support: 16108\n",
      "Neutral: Train Precision: 0.1929, Train Recall: 0.1011, Train F1: 0.1327, Train Support: 15915\n",
      "Sad: Train Precision: 0.1939, Train Recall: 0.3229, Train F1: 0.2423, Train Support: 16069\n",
      "Surprise: Train Precision: 0.2609, Train Recall: 0.6042, Train F1: 0.3644, Train Support: 15941\n",
      "Validation Loss: 1.8651, Validation Accuracy: 0.2733\n",
      "Angry: Validation Precision: 0.2310, Validation Recall: 0.0910, Validation F1: 0.1305, Validation Support: 2001\n",
      "Disgust: Validation Precision: 0.2108, Validation Recall: 0.3658, Validation F1: 0.2674, Validation Support: 1960\n",
      "Fear: Validation Precision: 0.1674, Validation Recall: 0.0196, Validation F1: 0.0351, Validation Support: 2041\n",
      "Happy: Validation Precision: 0.3449, Validation Recall: 0.3502, Validation F1: 0.3475, Validation Support: 1962\n",
      "Neutral: Validation Precision: 0.2518, Validation Recall: 0.0847, Validation F1: 0.1268, Validation Support: 2019\n",
      "Sad: Validation Precision: 0.2253, Validation Recall: 0.3506, Validation F1: 0.2744, Validation Support: 1988\n",
      "Surprise: Validation Precision: 0.3499, Validation Recall: 0.6565, Validation F1: 0.4565, Validation Support: 2029\n"
     ]
    },
    {
     "name": "stderr",
     "output_type": "stream",
     "text": [
      "                                                             \r"
     ]
    },
    {
     "name": "stdout",
     "output_type": "stream",
     "text": [
      "Epoch 3/15 => Train Loss: 1.8325, Train Accuracy: 0.3126\n",
      "Angry: Train Precision: 0.2370, Train Recall: 0.2015, Train F1: 0.2178, Train Support: 16006\n",
      "Disgust: Train Precision: 0.3317, Train Recall: 0.3700, Train F1: 0.3498, Train Support: 16018\n",
      "Fear: Train Precision: 0.1947, Train Recall: 0.0501, Train F1: 0.0797, Train Support: 16124\n",
      "Happy: Train Precision: 0.3644, Train Recall: 0.4844, Train F1: 0.4159, Train Support: 16063\n",
      "Neutral: Train Precision: 0.2467, Train Recall: 0.2639, Train F1: 0.2550, Train Support: 16017\n",
      "Sad: Train Precision: 0.2302, Train Recall: 0.2196, Train F1: 0.2248, Train Support: 15905\n",
      "Surprise: Train Precision: 0.4205, Train Recall: 0.6021, Train F1: 0.4952, Train Support: 15867\n",
      "Validation Loss: 1.8082, Validation Accuracy: 0.3395\n",
      "Angry: Validation Precision: 0.2784, Validation Recall: 0.1135, Validation F1: 0.1613, Validation Support: 2070\n",
      "Disgust: Validation Precision: 0.4402, Validation Recall: 0.4491, Validation F1: 0.4446, Validation Support: 1966\n",
      "Fear: Validation Precision: 0.2500, Validation Recall: 0.0045, Validation F1: 0.0088, Validation Support: 2010\n",
      "Happy: Validation Precision: 0.3960, Validation Recall: 0.5876, Validation F1: 0.4731, Validation Support: 2037\n",
      "Neutral: Validation Precision: 0.2250, Validation Recall: 0.6474, Validation F1: 0.3339, Validation Support: 1994\n",
      "Sad: Validation Precision: 0.2297, Validation Recall: 0.0602, Validation F1: 0.0954, Validation Support: 1977\n",
      "Surprise: Validation Precision: 0.5553, Validation Recall: 0.5236, Validation F1: 0.5390, Validation Support: 1946\n"
     ]
    },
    {
     "name": "stderr",
     "output_type": "stream",
     "text": [
      "                                                             \r"
     ]
    },
    {
     "name": "stdout",
     "output_type": "stream",
     "text": [
      "Epoch 4/15 => Train Loss: 1.7732, Train Accuracy: 0.3770\n",
      "Angry: Train Precision: 0.2846, Train Recall: 0.1933, Train F1: 0.2302, Train Support: 15981\n",
      "Disgust: Train Precision: 0.4378, Train Recall: 0.5304, Train F1: 0.4797, Train Support: 16039\n",
      "Fear: Train Precision: 0.2168, Train Recall: 0.0590, Train F1: 0.0927, Train Support: 15855\n",
      "Happy: Train Precision: 0.4439, Train Recall: 0.5876, Train F1: 0.5057, Train Support: 16211\n",
      "Neutral: Train Precision: 0.3048, Train Recall: 0.3712, Train F1: 0.3347, Train Support: 16019\n",
      "Sad: Train Precision: 0.2609, Train Recall: 0.2641, Train F1: 0.2625, Train Support: 16166\n",
      "Surprise: Train Precision: 0.4957, Train Recall: 0.6325, Train F1: 0.5558, Train Support: 15729\n",
      "Validation Loss: 1.7359, Validation Accuracy: 0.4174\n",
      "Angry: Validation Precision: 0.3584, Validation Recall: 0.2239, Validation F1: 0.2756, Validation Support: 2108\n",
      "Disgust: Validation Precision: 0.5108, Validation Recall: 0.5863, Validation F1: 0.5460, Validation Support: 1970\n",
      "Fear: Validation Precision: 0.2368, Validation Recall: 0.1302, Validation F1: 0.1680, Validation Support: 1966\n",
      "Happy: Validation Precision: 0.6084, Validation Recall: 0.5156, Validation F1: 0.5582, Validation Support: 1992\n",
      "Neutral: Validation Precision: 0.4603, Validation Recall: 0.2706, Validation F1: 0.3409, Validation Support: 2036\n",
      "Sad: Validation Precision: 0.2486, Validation Recall: 0.5349, Validation F1: 0.3394, Validation Support: 1905\n",
      "Surprise: Validation Precision: 0.5787, Validation Recall: 0.6742, Validation F1: 0.6228, Validation Support: 2023\n"
     ]
    },
    {
     "name": "stderr",
     "output_type": "stream",
     "text": [
      "                                                             \r"
     ]
    },
    {
     "name": "stdout",
     "output_type": "stream",
     "text": [
      "Epoch 5/15 => Train Loss: 1.7240, Train Accuracy: 0.4303\n",
      "Angry: Train Precision: 0.3379, Train Recall: 0.2602, Train F1: 0.2940, Train Support: 15800\n",
      "Disgust: Train Precision: 0.5092, Train Recall: 0.6116, Train F1: 0.5557, Train Support: 16053\n",
      "Fear: Train Precision: 0.2526, Train Recall: 0.0794, Train F1: 0.1209, Train Support: 15926\n",
      "Happy: Train Precision: 0.5183, Train Recall: 0.6240, Train F1: 0.5663, Train Support: 16020\n",
      "Neutral: Train Precision: 0.3538, Train Recall: 0.4217, Train F1: 0.3848, Train Support: 16057\n",
      "Sad: Train Precision: 0.2964, Train Recall: 0.3155, Train F1: 0.3056, Train Support: 15967\n",
      "Surprise: Train Precision: 0.5566, Train Recall: 0.6922, Train F1: 0.6170, Train Support: 16177\n",
      "Validation Loss: 1.7090, Validation Accuracy: 0.4481\n",
      "Angry: Validation Precision: 0.4371, Validation Recall: 0.2425, Validation F1: 0.3119, Validation Support: 2033\n",
      "Disgust: Validation Precision: 0.5906, Validation Recall: 0.6260, Validation F1: 0.6078, Validation Support: 2000\n",
      "Fear: Validation Precision: 0.5366, Validation Recall: 0.0111, Validation F1: 0.0218, Validation Support: 1980\n",
      "Happy: Validation Precision: 0.4414, Validation Recall: 0.7572, Validation F1: 0.5577, Validation Support: 1948\n",
      "Neutral: Validation Precision: 0.3323, Validation Recall: 0.5450, Validation F1: 0.4129, Validation Support: 2011\n",
      "Sad: Validation Precision: 0.3126, Validation Recall: 0.3582, Validation F1: 0.3339, Validation Support: 1982\n",
      "Surprise: Validation Precision: 0.6811, Validation Recall: 0.5992, Validation F1: 0.6375, Validation Support: 2046\n"
     ]
    },
    {
     "name": "stderr",
     "output_type": "stream",
     "text": [
      "                                                             \r"
     ]
    },
    {
     "name": "stdout",
     "output_type": "stream",
     "text": [
      "Epoch 6/15 => Train Loss: 1.6896, Train Accuracy: 0.4659\n",
      "Angry: Train Precision: 0.3737, Train Recall: 0.3098, Train F1: 0.3388, Train Support: 15931\n",
      "Disgust: Train Precision: 0.5717, Train Recall: 0.6447, Train F1: 0.6060, Train Support: 15991\n",
      "Fear: Train Precision: 0.3047, Train Recall: 0.1276, Train F1: 0.1799, Train Support: 16109\n",
      "Happy: Train Precision: 0.5670, Train Recall: 0.6386, Train F1: 0.6006, Train Support: 15947\n",
      "Neutral: Train Precision: 0.3876, Train Recall: 0.4652, Train F1: 0.4229, Train Support: 15861\n",
      "Sad: Train Precision: 0.3275, Train Recall: 0.3439, Train F1: 0.3355, Train Support: 16037\n",
      "Surprise: Train Precision: 0.5849, Train Recall: 0.7319, Train F1: 0.6502, Train Support: 16124\n",
      "Validation Loss: 1.6646, Validation Accuracy: 0.4934\n",
      "Angry: Validation Precision: 0.3554, Validation Recall: 0.4479, Validation F1: 0.3964, Validation Support: 1902\n",
      "Disgust: Validation Precision: 0.6331, Validation Recall: 0.6583, Validation F1: 0.6454, Validation Support: 2060\n",
      "Fear: Validation Precision: 0.3558, Validation Recall: 0.1625, Validation F1: 0.2231, Validation Support: 2043\n",
      "Happy: Validation Precision: 0.5275, Validation Recall: 0.7305, Validation F1: 0.6126, Validation Support: 1970\n",
      "Neutral: Validation Precision: 0.4297, Validation Recall: 0.4043, Validation F1: 0.4166, Validation Support: 1949\n",
      "Sad: Validation Precision: 0.3747, Validation Recall: 0.4053, Validation F1: 0.3894, Validation Support: 2011\n",
      "Surprise: Validation Precision: 0.7404, Validation Recall: 0.6421, Validation F1: 0.6878, Validation Support: 2065\n"
     ]
    },
    {
     "name": "stderr",
     "output_type": "stream",
     "text": [
      "                                                             \r"
     ]
    },
    {
     "name": "stdout",
     "output_type": "stream",
     "text": [
      "Epoch 7/15 => Train Loss: 1.6588, Train Accuracy: 0.4989\n",
      "Angry: Train Precision: 0.4190, Train Recall: 0.3763, Train F1: 0.3965, Train Support: 16089\n",
      "Disgust: Train Precision: 0.6166, Train Recall: 0.6914, Train F1: 0.6519, Train Support: 15899\n",
      "Fear: Train Precision: 0.3382, Train Recall: 0.1294, Train F1: 0.1871, Train Support: 15686\n",
      "Happy: Train Precision: 0.5933, Train Recall: 0.6794, Train F1: 0.6334, Train Support: 16234\n",
      "Neutral: Train Precision: 0.4140, Train Recall: 0.4879, Train F1: 0.4479, Train Support: 16042\n",
      "Sad: Train Precision: 0.3556, Train Recall: 0.3797, Train F1: 0.3672, Train Support: 15942\n",
      "Surprise: Train Precision: 0.6194, Train Recall: 0.7385, Train F1: 0.6737, Train Support: 16108\n",
      "Validation Loss: 1.6315, Validation Accuracy: 0.5277\n",
      "Angry: Validation Precision: 0.4909, Validation Recall: 0.3510, Validation F1: 0.4093, Validation Support: 1926\n",
      "Disgust: Validation Precision: 0.6634, Validation Recall: 0.7365, Validation F1: 0.6980, Validation Support: 2034\n",
      "Fear: Validation Precision: 0.3439, Validation Recall: 0.1899, Validation F1: 0.2447, Validation Support: 2059\n",
      "Happy: Validation Precision: 0.6022, Validation Recall: 0.7561, Validation F1: 0.6704, Validation Support: 1980\n",
      "Neutral: Validation Precision: 0.4663, Validation Recall: 0.4148, Validation F1: 0.4390, Validation Support: 2001\n",
      "Sad: Validation Precision: 0.3758, Validation Recall: 0.4770, Validation F1: 0.4204, Validation Support: 2021\n",
      "Surprise: Validation Precision: 0.6391, Validation Recall: 0.7741, Validation F1: 0.7002, Validation Support: 1979\n"
     ]
    },
    {
     "name": "stderr",
     "output_type": "stream",
     "text": [
      "                                                             \r"
     ]
    },
    {
     "name": "stdout",
     "output_type": "stream",
     "text": [
      "Epoch 8/15 => Train Loss: 1.6351, Train Accuracy: 0.5238\n",
      "Angry: Train Precision: 0.4484, Train Recall: 0.4084, Train F1: 0.4275, Train Support: 16118\n",
      "Disgust: Train Precision: 0.6553, Train Recall: 0.7375, Train F1: 0.6940, Train Support: 16166\n",
      "Fear: Train Precision: 0.3652, Train Recall: 0.1705, Train F1: 0.2325, Train Support: 15884\n",
      "Happy: Train Precision: 0.6309, Train Recall: 0.6880, Train F1: 0.6583, Train Support: 15925\n",
      "Neutral: Train Precision: 0.4308, Train Recall: 0.5073, Train F1: 0.4660, Train Support: 16090\n",
      "Sad: Train Precision: 0.3843, Train Recall: 0.4092, Train F1: 0.3964, Train Support: 15957\n",
      "Surprise: Train Precision: 0.6413, Train Recall: 0.7444, Train F1: 0.6890, Train Support: 15860\n",
      "Validation Loss: 1.6108, Validation Accuracy: 0.5486\n",
      "Angry: Validation Precision: 0.4132, Validation Recall: 0.5278, Validation F1: 0.4635, Validation Support: 1957\n",
      "Disgust: Validation Precision: 0.7903, Validation Recall: 0.7482, Validation F1: 0.7687, Validation Support: 2105\n",
      "Fear: Validation Precision: 0.4499, Validation Recall: 0.1329, Validation F1: 0.2052, Validation Support: 2061\n",
      "Happy: Validation Precision: 0.7152, Validation Recall: 0.6662, Validation F1: 0.6898, Validation Support: 1998\n",
      "Neutral: Validation Precision: 0.4474, Validation Recall: 0.4990, Validation F1: 0.4718, Validation Support: 1994\n",
      "Sad: Validation Precision: 0.4031, Validation Recall: 0.4800, Validation F1: 0.4382, Validation Support: 1975\n",
      "Surprise: Validation Precision: 0.6197, Validation Recall: 0.7984, Validation F1: 0.6978, Validation Support: 1910\n"
     ]
    },
    {
     "name": "stderr",
     "output_type": "stream",
     "text": [
      "                                                             \r"
     ]
    },
    {
     "name": "stdout",
     "output_type": "stream",
     "text": [
      "Epoch 9/15 => Train Loss: 1.6145, Train Accuracy: 0.5448\n",
      "Angry: Train Precision: 0.4631, Train Recall: 0.4380, Train F1: 0.4502, Train Support: 16092\n",
      "Disgust: Train Precision: 0.7087, Train Recall: 0.7778, Train F1: 0.7416, Train Support: 16059\n",
      "Fear: Train Precision: 0.3979, Train Recall: 0.2064, Train F1: 0.2718, Train Support: 16024\n",
      "Happy: Train Precision: 0.6481, Train Recall: 0.6970, Train F1: 0.6717, Train Support: 15895\n",
      "Neutral: Train Precision: 0.4488, Train Recall: 0.5111, Train F1: 0.4779, Train Support: 15869\n",
      "Sad: Train Precision: 0.3993, Train Recall: 0.4361, Train F1: 0.4169, Train Support: 16009\n",
      "Surprise: Train Precision: 0.6598, Train Recall: 0.7478, Train F1: 0.7010, Train Support: 16052\n",
      "Validation Loss: 1.5971, Validation Accuracy: 0.5616\n",
      "Angry: Validation Precision: 0.4530, Validation Recall: 0.5000, Validation F1: 0.4753, Validation Support: 1986\n",
      "Disgust: Validation Precision: 0.7245, Validation Recall: 0.8072, Validation F1: 0.7636, Validation Support: 2033\n",
      "Fear: Validation Precision: 0.4565, Validation Recall: 0.2268, Validation F1: 0.3031, Validation Support: 2037\n",
      "Happy: Validation Precision: 0.6933, Validation Recall: 0.6776, Validation F1: 0.6854, Validation Support: 2038\n",
      "Neutral: Validation Precision: 0.5206, Validation Recall: 0.4410, Validation F1: 0.4775, Validation Support: 1950\n",
      "Sad: Validation Precision: 0.3833, Validation Recall: 0.5294, Validation F1: 0.4446, Validation Support: 1972\n",
      "Surprise: Validation Precision: 0.6847, Validation Recall: 0.7465, Validation F1: 0.7143, Validation Support: 1984\n"
     ]
    },
    {
     "name": "stderr",
     "output_type": "stream",
     "text": [
      "                                                             \r"
     ]
    },
    {
     "name": "stdout",
     "output_type": "stream",
     "text": [
      "Epoch 10/15 => Train Loss: 1.5981, Train Accuracy: 0.5621\n",
      "Angry: Train Precision: 0.4837, Train Recall: 0.4773, Train F1: 0.4805, Train Support: 16342\n",
      "Disgust: Train Precision: 0.7313, Train Recall: 0.8124, Train F1: 0.7697, Train Support: 15930\n",
      "Fear: Train Precision: 0.4232, Train Recall: 0.2174, Train F1: 0.2872, Train Support: 16066\n",
      "Happy: Train Precision: 0.6627, Train Recall: 0.7067, Train F1: 0.6840, Train Support: 15925\n",
      "Neutral: Train Precision: 0.4575, Train Recall: 0.5258, Train F1: 0.4893, Train Support: 15709\n",
      "Sad: Train Precision: 0.4209, Train Recall: 0.4511, Train F1: 0.4354, Train Support: 16002\n",
      "Surprise: Train Precision: 0.6761, Train Recall: 0.7484, Train F1: 0.7104, Train Support: 16026\n",
      "Validation Loss: 1.5920, Validation Accuracy: 0.5676\n",
      "Angry: Validation Precision: 0.5524, Validation Recall: 0.3919, Validation F1: 0.4585, Validation Support: 2003\n",
      "Disgust: Validation Precision: 0.7766, Validation Recall: 0.8090, Validation F1: 0.7925, Validation Support: 2037\n",
      "Fear: Validation Precision: 0.3906, Validation Recall: 0.2593, Validation F1: 0.3117, Validation Support: 1990\n",
      "Happy: Validation Precision: 0.6743, Validation Recall: 0.7204, Validation F1: 0.6966, Validation Support: 1992\n",
      "Neutral: Validation Precision: 0.4934, Validation Recall: 0.5080, Validation F1: 0.5006, Validation Support: 1992\n",
      "Sad: Validation Precision: 0.3830, Validation Recall: 0.5872, Validation F1: 0.4636, Validation Support: 2023\n",
      "Surprise: Validation Precision: 0.7342, Validation Recall: 0.6938, Validation F1: 0.7135, Validation Support: 1963\n"
     ]
    },
    {
     "name": "stderr",
     "output_type": "stream",
     "text": [
      "                                                             \r"
     ]
    },
    {
     "name": "stdout",
     "output_type": "stream",
     "text": [
      "Epoch 11/15 => Train Loss: 1.5841, Train Accuracy: 0.5767\n",
      "Angry: Train Precision: 0.4969, Train Recall: 0.4764, Train F1: 0.4864, Train Support: 15977\n",
      "Disgust: Train Precision: 0.7602, Train Recall: 0.8270, Train F1: 0.7922, Train Support: 15970\n",
      "Fear: Train Precision: 0.4474, Train Recall: 0.2538, Train F1: 0.3239, Train Support: 16068\n",
      "Happy: Train Precision: 0.6758, Train Recall: 0.7178, Train F1: 0.6961, Train Support: 15992\n",
      "Neutral: Train Precision: 0.4703, Train Recall: 0.5426, Train F1: 0.5039, Train Support: 15952\n",
      "Sad: Train Precision: 0.4316, Train Recall: 0.4638, Train F1: 0.4471, Train Support: 16075\n",
      "Surprise: Train Precision: 0.6907, Train Recall: 0.7584, Train F1: 0.7230, Train Support: 15966\n",
      "Validation Loss: 1.5942, Validation Accuracy: 0.5651\n",
      "Angry: Validation Precision: 0.4408, Validation Recall: 0.5915, Validation F1: 0.5052, Validation Support: 2071\n",
      "Disgust: Validation Precision: 0.7906, Validation Recall: 0.8135, Validation F1: 0.8019, Validation Support: 1973\n",
      "Fear: Validation Precision: 0.4826, Validation Recall: 0.1870, Validation F1: 0.2695, Validation Support: 2000\n",
      "Happy: Validation Precision: 0.6385, Validation Recall: 0.7597, Validation F1: 0.6938, Validation Support: 2006\n",
      "Neutral: Validation Precision: 0.4574, Validation Recall: 0.5338, Validation F1: 0.4927, Validation Support: 2010\n",
      "Sad: Validation Precision: 0.5152, Validation Recall: 0.2416, Validation F1: 0.3289, Validation Support: 1962\n",
      "Surprise: Validation Precision: 0.5921, Validation Recall: 0.8271, Validation F1: 0.6901, Validation Support: 1978\n"
     ]
    },
    {
     "name": "stderr",
     "output_type": "stream",
     "text": [
      "                                                             \r"
     ]
    },
    {
     "name": "stdout",
     "output_type": "stream",
     "text": [
      "Epoch 12/15 => Train Loss: 1.5742, Train Accuracy: 0.5870\n",
      "Angry: Train Precision: 0.5088, Train Recall: 0.4833, Train F1: 0.4957, Train Support: 15938\n",
      "Disgust: Train Precision: 0.7750, Train Recall: 0.8378, Train F1: 0.8051, Train Support: 16014\n",
      "Fear: Train Precision: 0.4527, Train Recall: 0.2633, Train F1: 0.3330, Train Support: 16018\n",
      "Happy: Train Precision: 0.6832, Train Recall: 0.7285, Train F1: 0.7051, Train Support: 16061\n",
      "Neutral: Train Precision: 0.4844, Train Recall: 0.5447, Train F1: 0.5128, Train Support: 16032\n",
      "Sad: Train Precision: 0.4408, Train Recall: 0.4829, Train F1: 0.4609, Train Support: 15926\n",
      "Surprise: Train Precision: 0.6969, Train Recall: 0.7674, Train F1: 0.7304, Train Support: 16011\n",
      "Validation Loss: 1.5755, Validation Accuracy: 0.5857\n",
      "Angry: Validation Precision: 0.5153, Validation Recall: 0.4976, Validation F1: 0.5063, Validation Support: 2066\n",
      "Disgust: Validation Precision: 0.8218, Validation Recall: 0.8436, Validation F1: 0.8326, Validation Support: 1995\n",
      "Fear: Validation Precision: 0.6036, Validation Recall: 0.1864, Validation F1: 0.2848, Validation Support: 1969\n",
      "Happy: Validation Precision: 0.7194, Validation Recall: 0.7296, Validation F1: 0.7245, Validation Support: 2056\n",
      "Neutral: Validation Precision: 0.3739, Validation Recall: 0.7254, Validation F1: 0.4934, Validation Support: 1945\n",
      "Sad: Validation Precision: 0.5334, Validation Recall: 0.3436, Validation F1: 0.4180, Validation Support: 2046\n",
      "Surprise: Validation Precision: 0.6943, Validation Recall: 0.7842, Validation F1: 0.7365, Validation Support: 1923\n"
     ]
    },
    {
     "name": "stderr",
     "output_type": "stream",
     "text": [
      "                                                             \r"
     ]
    },
    {
     "name": "stdout",
     "output_type": "stream",
     "text": [
      "Epoch 13/15 => Train Loss: 1.5631, Train Accuracy: 0.5983\n",
      "Angry: Train Precision: 0.5281, Train Recall: 0.5060, Train F1: 0.5169, Train Support: 16078\n",
      "Disgust: Train Precision: 0.7956, Train Recall: 0.8576, Train F1: 0.8254, Train Support: 15965\n",
      "Fear: Train Precision: 0.4649, Train Recall: 0.2875, Train F1: 0.3553, Train Support: 15967\n",
      "Happy: Train Precision: 0.7011, Train Recall: 0.7211, Train F1: 0.7110, Train Support: 16033\n",
      "Neutral: Train Precision: 0.4903, Train Recall: 0.5684, Train F1: 0.5265, Train Support: 16067\n",
      "Sad: Train Precision: 0.4466, Train Recall: 0.4774, Train F1: 0.4615, Train Support: 15876\n",
      "Surprise: Train Precision: 0.7069, Train Recall: 0.7690, Train F1: 0.7367, Train Support: 16014\n",
      "Validation Loss: 1.5440, Validation Accuracy: 0.6180\n",
      "Angry: Validation Precision: 0.5845, Validation Recall: 0.5000, Validation F1: 0.5390, Validation Support: 2020\n",
      "Disgust: Validation Precision: 0.7893, Validation Recall: 0.9064, Validation F1: 0.8438, Validation Support: 2029\n",
      "Fear: Validation Precision: 0.4582, Validation Recall: 0.3484, Validation F1: 0.3958, Validation Support: 1952\n",
      "Happy: Validation Precision: 0.7225, Validation Recall: 0.7225, Validation F1: 0.7225, Validation Support: 2036\n",
      "Neutral: Validation Precision: 0.5085, Validation Recall: 0.5679, Validation F1: 0.5366, Validation Support: 2009\n",
      "Sad: Validation Precision: 0.4635, Validation Recall: 0.4925, Validation F1: 0.4776, Validation Support: 1998\n",
      "Surprise: Validation Precision: 0.7431, Validation Recall: 0.7807, Validation F1: 0.7614, Validation Support: 1956\n"
     ]
    },
    {
     "name": "stderr",
     "output_type": "stream",
     "text": [
      "                                                             \r"
     ]
    },
    {
     "name": "stdout",
     "output_type": "stream",
     "text": [
      "Epoch 14/15 => Train Loss: 1.5526, Train Accuracy: 0.6089\n",
      "Angry: Train Precision: 0.5349, Train Recall: 0.5068, Train F1: 0.5205, Train Support: 15849\n",
      "Disgust: Train Precision: 0.8188, Train Recall: 0.8743, Train F1: 0.8457, Train Support: 15893\n",
      "Fear: Train Precision: 0.4844, Train Recall: 0.3043, Train F1: 0.3738, Train Support: 15955\n",
      "Happy: Train Precision: 0.7001, Train Recall: 0.7300, Train F1: 0.7147, Train Support: 16035\n",
      "Neutral: Train Precision: 0.4893, Train Recall: 0.5792, Train F1: 0.5305, Train Support: 16151\n",
      "Sad: Train Precision: 0.4682, Train Recall: 0.4913, Train F1: 0.4795, Train Support: 16066\n",
      "Surprise: Train Precision: 0.7204, Train Recall: 0.7760, Train F1: 0.7472, Train Support: 16051\n",
      "Validation Loss: 1.5354, Validation Accuracy: 0.6261\n",
      "Angry: Validation Precision: 0.5301, Validation Recall: 0.5686, Validation F1: 0.5487, Validation Support: 1998\n",
      "Disgust: Validation Precision: 0.8106, Validation Recall: 0.9179, Validation F1: 0.8609, Validation Support: 1986\n",
      "Fear: Validation Precision: 0.5788, Validation Recall: 0.2828, Validation F1: 0.3800, Validation Support: 1987\n",
      "Happy: Validation Precision: 0.6413, Validation Recall: 0.7832, Validation F1: 0.7052, Validation Support: 1970\n",
      "Neutral: Validation Precision: 0.5157, Validation Recall: 0.6034, Validation F1: 0.5561, Validation Support: 2118\n",
      "Sad: Validation Precision: 0.5203, Validation Recall: 0.4452, Validation F1: 0.4799, Validation Support: 1954\n",
      "Surprise: Validation Precision: 0.7468, Validation Recall: 0.7821, Validation F1: 0.7640, Validation Support: 1987\n"
     ]
    },
    {
     "name": "stderr",
     "output_type": "stream",
     "text": [
      "                                                             \r"
     ]
    },
    {
     "name": "stdout",
     "output_type": "stream",
     "text": [
      "Epoch 15/15 => Train Loss: 1.5423, Train Accuracy: 0.6194\n",
      "Angry: Train Precision: 0.5405, Train Recall: 0.5228, Train F1: 0.5315, Train Support: 16139\n",
      "Disgust: Train Precision: 0.8230, Train Recall: 0.8777, Train F1: 0.8494, Train Support: 16081\n",
      "Fear: Train Precision: 0.5014, Train Recall: 0.3139, Train F1: 0.3861, Train Support: 15745\n",
      "Happy: Train Precision: 0.7134, Train Recall: 0.7370, Train F1: 0.7250, Train Support: 15945\n",
      "Neutral: Train Precision: 0.5122, Train Recall: 0.5832, Train F1: 0.5454, Train Support: 16088\n",
      "Sad: Train Precision: 0.4772, Train Recall: 0.5059, Train F1: 0.4912, Train Support: 15968\n",
      "Surprise: Train Precision: 0.7169, Train Recall: 0.7896, Train F1: 0.7515, Train Support: 16034\n",
      "Validation Loss: 1.5531, Validation Accuracy: 0.6072\n",
      "Angry: Validation Precision: 0.5808, Validation Recall: 0.4808, Validation F1: 0.5261, Validation Support: 2003\n",
      "Disgust: Validation Precision: 0.8840, Validation Recall: 0.8423, Validation F1: 0.8627, Validation Support: 1909\n",
      "Fear: Validation Precision: 0.5703, Validation Recall: 0.2758, Validation F1: 0.3718, Validation Support: 2074\n",
      "Happy: Validation Precision: 0.6074, Validation Recall: 0.7823, Validation F1: 0.6838, Validation Support: 1952\n",
      "Neutral: Validation Precision: 0.5450, Validation Recall: 0.5028, Validation F1: 0.5230, Validation Support: 1989\n",
      "Sad: Validation Precision: 0.4219, Validation Recall: 0.6369, Validation F1: 0.5075, Validation Support: 2085\n",
      "Surprise: Validation Precision: 0.7430, Validation Recall: 0.7560, Validation F1: 0.7494, Validation Support: 1988\n",
      "Best model achieved at epoch 14 with accuracy 0.6261\n"
     ]
    },
    {
     "name": "stderr",
     "output_type": "stream",
     "text": [
      "                                                          \r"
     ]
    },
    {
     "name": "stdout",
     "output_type": "stream",
     "text": [
      "TEST ACCURACY_:  0.4110714285714286\n",
      "TEST ACCURACY:  0.6359285714285714\n"
     ]
    },
    {
     "data": {
      "text/html": [
       "<style>\n",
       "    table.wandb td:nth-child(1) { padding: 0 10px; text-align: left ; width: auto;} td:nth-child(2) {text-align: left ; width: 100%}\n",
       "    .wandb-row { display: flex; flex-direction: row; flex-wrap: wrap; justify-content: flex-start; width: 100% }\n",
       "    .wandb-col { display: flex; flex-direction: column; flex-basis: 100%; flex: 1; padding: 10px; }\n",
       "    </style>\n",
       "<div class=\"wandb-row\"><div class=\"wandb-col\"><h3>Run history:</h3><br/><table class=\"wandb\"><tr><td>test_accuracy</td><td>▁</td></tr><tr><td>test_accuracy_</td><td>▁</td></tr><tr><td>train_accuracy</td><td>▁</td></tr><tr><td>train_f1_Angry</td><td>▁</td></tr><tr><td>train_f1_Disgust</td><td>▁</td></tr><tr><td>train_f1_Fear</td><td>▁</td></tr><tr><td>train_f1_Happy</td><td>▁</td></tr><tr><td>train_f1_Neutral</td><td>▁</td></tr><tr><td>train_f1_Sad</td><td>▁</td></tr><tr><td>train_f1_Surprise</td><td>▁</td></tr><tr><td>train_loss</td><td>▁</td></tr><tr><td>train_precision_Angry</td><td>▁</td></tr><tr><td>train_precision_Disgust</td><td>▁</td></tr><tr><td>train_precision_Fear</td><td>▁</td></tr><tr><td>train_precision_Happy</td><td>▁</td></tr><tr><td>train_precision_Neutral</td><td>▁</td></tr><tr><td>train_precision_Sad</td><td>▁</td></tr><tr><td>train_precision_Surprise</td><td>▁</td></tr><tr><td>train_recall_Angry</td><td>▁</td></tr><tr><td>train_recall_Disgust</td><td>▁</td></tr><tr><td>train_recall_Fear</td><td>▁</td></tr><tr><td>train_recall_Happy</td><td>▁</td></tr><tr><td>train_recall_Neutral</td><td>▁</td></tr><tr><td>train_recall_Sad</td><td>▁</td></tr><tr><td>train_recall_Surprise</td><td>▁</td></tr><tr><td>train_support_Angry</td><td>▁</td></tr><tr><td>train_support_Disgust</td><td>▁</td></tr><tr><td>train_support_Fear</td><td>▁</td></tr><tr><td>train_support_Happy</td><td>▁</td></tr><tr><td>train_support_Neutral</td><td>▁</td></tr><tr><td>train_support_Sad</td><td>▁</td></tr><tr><td>train_support_Surprise</td><td>▁</td></tr><tr><td>val_accuracy</td><td>▁</td></tr><tr><td>val_f1_Angry</td><td>▁</td></tr><tr><td>val_f1_Disgust</td><td>▁</td></tr><tr><td>val_f1_Fear</td><td>▁</td></tr><tr><td>val_f1_Happy</td><td>▁</td></tr><tr><td>val_f1_Neutral</td><td>▁</td></tr><tr><td>val_f1_Sad</td><td>▁</td></tr><tr><td>val_f1_Surprise</td><td>▁</td></tr><tr><td>val_loss</td><td>▁</td></tr><tr><td>val_precision_Angry</td><td>▁</td></tr><tr><td>val_precision_Disgust</td><td>▁</td></tr><tr><td>val_precision_Fear</td><td>▁</td></tr><tr><td>val_precision_Happy</td><td>▁</td></tr><tr><td>val_precision_Neutral</td><td>▁</td></tr><tr><td>val_precision_Sad</td><td>▁</td></tr><tr><td>val_precision_Surprise</td><td>▁</td></tr><tr><td>val_recall_Angry</td><td>▁</td></tr><tr><td>val_recall_Disgust</td><td>▁</td></tr><tr><td>val_recall_Fear</td><td>▁</td></tr><tr><td>val_recall_Happy</td><td>▁</td></tr><tr><td>val_recall_Neutral</td><td>▁</td></tr><tr><td>val_recall_Sad</td><td>▁</td></tr><tr><td>val_recall_Surprise</td><td>▁</td></tr><tr><td>val_support_Angry</td><td>▁</td></tr><tr><td>val_support_Disgust</td><td>▁</td></tr><tr><td>val_support_Fear</td><td>▁</td></tr><tr><td>val_support_Happy</td><td>▁</td></tr><tr><td>val_support_Neutral</td><td>▁</td></tr><tr><td>val_support_Sad</td><td>▁</td></tr><tr><td>val_support_Surprise</td><td>▁</td></tr></table><br/></div><div class=\"wandb-col\"><h3>Run summary:</h3><br/><table class=\"wandb\"><tr><td>test_accuracy</td><td>0.63593</td></tr><tr><td>test_accuracy_</td><td>0.41107</td></tr><tr><td>train_accuracy</td><td>0.61937</td></tr><tr><td>train_f1_Angry</td><td>0.53153</td></tr><tr><td>train_f1_Disgust</td><td>0.84945</td></tr><tr><td>train_f1_Fear</td><td>0.38608</td></tr><tr><td>train_f1_Happy</td><td>0.72503</td></tr><tr><td>train_f1_Neutral</td><td>0.5454</td></tr><tr><td>train_f1_Sad</td><td>0.49117</td></tr><tr><td>train_f1_Surprise</td><td>0.75151</td></tr><tr><td>train_loss</td><td>1.54232</td></tr><tr><td>train_precision_Angry</td><td>0.54052</td></tr><tr><td>train_precision_Disgust</td><td>0.82297</td></tr><tr><td>train_precision_Fear</td><td>0.50142</td></tr><tr><td>train_precision_Happy</td><td>0.71341</td></tr><tr><td>train_precision_Neutral</td><td>0.51217</td></tr><tr><td>train_precision_Sad</td><td>0.47723</td></tr><tr><td>train_precision_Surprise</td><td>0.71689</td></tr><tr><td>train_recall_Angry</td><td>0.52283</td></tr><tr><td>train_recall_Disgust</td><td>0.87768</td></tr><tr><td>train_recall_Fear</td><td>0.31388</td></tr><tr><td>train_recall_Happy</td><td>0.73703</td></tr><tr><td>train_recall_Neutral</td><td>0.58323</td></tr><tr><td>train_recall_Sad</td><td>0.50595</td></tr><tr><td>train_recall_Surprise</td><td>0.78963</td></tr><tr><td>train_support_Angry</td><td>16139</td></tr><tr><td>train_support_Disgust</td><td>16081</td></tr><tr><td>train_support_Fear</td><td>15745</td></tr><tr><td>train_support_Happy</td><td>15945</td></tr><tr><td>train_support_Neutral</td><td>16088</td></tr><tr><td>train_support_Sad</td><td>15968</td></tr><tr><td>train_support_Surprise</td><td>16034</td></tr><tr><td>val_accuracy</td><td>0.60721</td></tr><tr><td>val_f1_Angry</td><td>0.52609</td></tr><tr><td>val_f1_Disgust</td><td>0.86266</td></tr><tr><td>val_f1_Fear</td><td>0.37179</td></tr><tr><td>val_f1_Happy</td><td>0.68383</td></tr><tr><td>val_f1_Neutral</td><td>0.52301</td></tr><tr><td>val_f1_Sad</td><td>0.50755</td></tr><tr><td>val_f1_Surprise</td><td>0.74944</td></tr><tr><td>val_loss</td><td>1.55311</td></tr><tr><td>val_precision_Angry</td><td>0.58082</td></tr><tr><td>val_precision_Disgust</td><td>0.884</td></tr><tr><td>val_precision_Fear</td><td>0.57029</td></tr><tr><td>val_precision_Happy</td><td>0.6074</td></tr><tr><td>val_precision_Neutral</td><td>0.54496</td></tr><tr><td>val_precision_Sad</td><td>0.42186</td></tr><tr><td>val_precision_Surprise</td><td>0.74296</td></tr><tr><td>val_recall_Angry</td><td>0.48078</td></tr><tr><td>val_recall_Disgust</td><td>0.84233</td></tr><tr><td>val_recall_Fear</td><td>0.2758</td></tr><tr><td>val_recall_Happy</td><td>0.78227</td></tr><tr><td>val_recall_Neutral</td><td>0.50277</td></tr><tr><td>val_recall_Sad</td><td>0.63693</td></tr><tr><td>val_recall_Surprise</td><td>0.75604</td></tr><tr><td>val_support_Angry</td><td>2003</td></tr><tr><td>val_support_Disgust</td><td>1909</td></tr><tr><td>val_support_Fear</td><td>2074</td></tr><tr><td>val_support_Happy</td><td>1952</td></tr><tr><td>val_support_Neutral</td><td>1989</td></tr><tr><td>val_support_Sad</td><td>2085</td></tr><tr><td>val_support_Surprise</td><td>1988</td></tr></table><br/></div></div>"
      ],
      "text/plain": [
       "<IPython.core.display.HTML object>"
      ]
     },
     "metadata": {},
     "output_type": "display_data"
    },
    {
     "data": {
      "text/html": [
       " View run <strong style=\"color:#cdcd00\">crisp-sweep-1</strong> at: <a href='https://wandb.ai/computer_visionistici/provaA1/runs/gb2c8pbp' target=\"_blank\">https://wandb.ai/computer_visionistici/provaA1/runs/gb2c8pbp</a><br/>Synced 5 W&B file(s), 0 media file(s), 0 artifact file(s) and 0 other file(s)"
      ],
      "text/plain": [
       "<IPython.core.display.HTML object>"
      ]
     },
     "metadata": {},
     "output_type": "display_data"
    },
    {
     "data": {
      "text/html": [
       "Find logs at: <code>.\\wandb\\run-20231228_200603-gb2c8pbp\\logs</code>"
      ],
      "text/plain": [
       "<IPython.core.display.HTML object>"
      ]
     },
     "metadata": {},
     "output_type": "display_data"
    },
    {
     "name": "stderr",
     "output_type": "stream",
     "text": [
      "\u001b[34m\u001b[1mwandb\u001b[0m: Sweep Agent: Waiting for job.\n",
      "\u001b[34m\u001b[1mwandb\u001b[0m: Sweep Agent: Exiting.\n"
     ]
    }
   ],
   "source": [
    "your_label_mapping = {0: 'Angry', 1: 'Disgust', 2: 'Fear', 3: 'Happy', 4: 'Neutral', 5: 'Sad', 6: 'Surprise'}\n",
    "\n",
    "device = torch.device('cuda' if torch.cuda.is_available() else 'cpu')\n",
    "\n",
    "\n",
    "def calculate_metrics_per_class(true_labels, predicted_labels, label_mapping):\n",
    "    unique_labels = list(label_mapping.keys())\n",
    "    precision, recall, f1, support = precision_recall_fscore_support(true_labels, predicted_labels, labels=unique_labels)\n",
    "    accuracy = accuracy_score(true_labels, predicted_labels)\n",
    "    \n",
    "    metrics_per_class = {}\n",
    "    for i, idx in enumerate(unique_labels):\n",
    "        metrics_per_class[idx] = {\n",
    "            'precision': precision[i],\n",
    "            'recall': recall[i],\n",
    "            'f1': f1[i],\n",
    "            'support': support[i]\n",
    "        }\n",
    "\n",
    "    return accuracy, metrics_per_class\n",
    "\n",
    "# function for training\n",
    "def train_epoch(model, train_loader, criterion, optimizer, device, label_mapping):\n",
    "    model.train()\n",
    "    running_loss = 0.0\n",
    "    true_labels = []\n",
    "    predicted_labels = []\n",
    "\n",
    "    for inputs, labels in tqdm(train_loader, desc='Training', leave=False):\n",
    "        inputs, labels = inputs.to(device), labels.to(device)\n",
    "        \n",
    "        optimizer.zero_grad()\n",
    "        outputs = model(inputs)\n",
    "        loss = criterion(outputs, labels)\n",
    "        loss.backward()\n",
    "        optimizer.step()\n",
    "\n",
    "        running_loss += loss.item()\n",
    "\n",
    "        _, preds = torch.max(outputs, 1)\n",
    "        true_labels.extend(labels.cpu().numpy())\n",
    "        predicted_labels.extend(preds.cpu().numpy())\n",
    "\n",
    "    average_loss = running_loss / len(train_loader)\n",
    "    accuracy, metrics_per_class = calculate_metrics_per_class(true_labels, predicted_labels, label_mapping)\n",
    "\n",
    "    return average_loss, accuracy, metrics_per_class\n",
    "\n",
    "# function for evaluation\n",
    "def evaluate(model, val_loader, criterion, device, label_mapping):\n",
    "    model.eval()\n",
    "    running_loss = 0.0\n",
    "    true_labels = []\n",
    "    predicted_labels = []\n",
    "\n",
    "    with torch.no_grad():\n",
    "        for inputs, labels in tqdm(val_loader, desc='Validation', leave=False):\n",
    "            inputs, labels = inputs.to(device), labels.to(device)\n",
    "\n",
    "            outputs = model(inputs)\n",
    "            loss = criterion(outputs, labels)\n",
    "            running_loss += loss.item()\n",
    "\n",
    "            _, preds = torch.max(outputs, 1)\n",
    "            true_labels.extend(labels.cpu().numpy())\n",
    "            predicted_labels.extend(preds.cpu().numpy())\n",
    "\n",
    "    average_loss = running_loss / len(val_loader)\n",
    "    accuracy, metrics_per_class = calculate_metrics_per_class(true_labels, predicted_labels, label_mapping)\n",
    "\n",
    "    return average_loss, accuracy, metrics_per_class\n",
    "\n",
    "# Funzione per il test\n",
    "def test(model, test_loader, criterion, device, label_mapping):\n",
    "    model.eval()\n",
    "    running_loss = 0.0\n",
    "    true_labels = []\n",
    "    predicted_labels = []\n",
    "\n",
    "    with torch.no_grad():\n",
    "        for inputs, labels in tqdm(test_loader, desc='Testing', leave=False):\n",
    "            inputs, labels = inputs.to(device), labels.to(device)\n",
    "\n",
    "            outputs = model(inputs)\n",
    "            loss = criterion(outputs, labels)\n",
    "            running_loss += loss.item()\n",
    "\n",
    "            _, preds = torch.max(outputs, 1)\n",
    "            true_labels.extend(labels.cpu().numpy())\n",
    "            predicted_labels.extend(preds.cpu().numpy())\n",
    "\n",
    "    average_loss = running_loss / len(test_loader)\n",
    "    accuracy, metrics_per_class = calculate_metrics_per_class(true_labels, predicted_labels, label_mapping)\n",
    "\n",
    "    return average_loss, accuracy, metrics_per_class\n",
    "\n",
    "\n",
    "def train_and_evaluate():\n",
    "    wandb.init(project=\"provaA1\")\n",
    "\n",
    "    number_instances_over_under_sampling_ = wandb.config.get('number_instances_over_under_sampling_')\n",
    "    batch_size_ = wandb.config.get('batch_size_')\n",
    "    epochs_ = wandb.config.get('epochs_')\n",
    "\n",
    "    # definition of the model, criterion, optimizer and scheduler\n",
    "    net = EmotionCNN().to(device)\n",
    "    criterion = nn.CrossEntropyLoss()\n",
    "    optimizer = SGD(net.parameters(), lr=0.01, momentum=0.9, nesterov=True, weight_decay=0.0001)\n",
    "    scheduler = ReduceLROnPlateau(optimizer, mode='max', factor=0.75, patience=5, verbose=True)\n",
    "\n",
    "        # transformation definition\n",
    "    transform = transforms.Compose([\n",
    "        transforms.Grayscale(num_output_channels=1),\n",
    "        transforms.Resize((48, 48)),\n",
    "        transforms.ToTensor(),\n",
    "        transforms.Normalize((0.5,), (0.5,))\n",
    "    ])\n",
    "\n",
    "    dataset_root = r'C:\\Users\\marco\\OneDrive\\Documenti\\CV_project\\ComputerVisionProject\\Data\\test_images_emotion'\n",
    "\n",
    "    # create an instance of ImageFolder with the transformations\n",
    "    dataset = ImageFolder(root=dataset_root, transform=transform)\n",
    "\n",
    "    # seed = 42\n",
    "    torch.manual_seed(42)\n",
    "\n",
    "    # extract the labels and the indices of the dataset\n",
    "    labels = [label for _, label in dataset.imgs]\n",
    "\n",
    "    # convert the list into a tensor\n",
    "    labels = torch.tensor(labels)\n",
    "\n",
    "    # calculate the number of instances for each class\n",
    "    counts = torch.bincount(labels)\n",
    "\n",
    "    # calculate the weights for each class\n",
    "    weights = 1.0 / counts.float()\n",
    "\n",
    "    # create a weight vector for each index in the dataset\n",
    "    sample_weights = weights[labels]\n",
    "\n",
    "    # set the number of samples for the train set and the test set\n",
    "    train_size = (number_instances_over_under_sampling_/10) * 7 * 0.1\n",
    "    val_size = (number_instances_over_under_sampling_/10) * 7 * 0.1\n",
    "    test_size = (number_instances_over_under_sampling_/10) * 7 * 0.8\n",
    "\n",
    "    # crea un sampler per il train set and one for the test set\n",
    "    train_sampler = torch.utils.data.WeightedRandomSampler(sample_weights, int(train_size))\n",
    "    val_sampler = torch.utils.data.WeightedRandomSampler(sample_weights, int(val_size))\n",
    "    test_sampler = torch.utils.data.WeightedRandomSampler(sample_weights, int(test_size))\n",
    "\n",
    "    # create a dataloader for the train set and the test set with the corresponding samplers\n",
    "    train_loader_ = DataLoader(dataset, batch_size=batch_size_, sampler=train_sampler, num_workers=4)\n",
    "    val_loader_ = DataLoader(dataset, batch_size=batch_size_, sampler=val_sampler, num_workers=4)\n",
    "    test_loader_ = DataLoader(dataset, batch_size=batch_size_, sampler=test_sampler, num_workers=4)\n",
    "\n",
    "            # transformation definition\n",
    "    transform = transforms.Compose([\n",
    "        transforms.Grayscale(num_output_channels=1),\n",
    "        transforms.Resize((48, 48)),\n",
    "        transforms.ToTensor(),\n",
    "        transforms.Normalize((0.5,), (0.5,))\n",
    "    ])\n",
    "\n",
    "    dataset_root = r'C:\\Users\\marco\\OneDrive\\Documenti\\CV_project\\ComputerVisionProject\\Data\\emotions_aug_images'\n",
    "\n",
    "    # create an instance of ImageFolder with the transformations\n",
    "    dataset = ImageFolder(root=dataset_root, transform=transform)\n",
    "\n",
    "    # seed = 42\n",
    "    torch.manual_seed(42)\n",
    "\n",
    "    # extract the labels and the indices of the dataset\n",
    "    labels = [label for _, label in dataset.imgs]\n",
    "\n",
    "    # convert the list into a tensor\n",
    "    labels = torch.tensor(labels)\n",
    "\n",
    "    # calculate the number of instances for each class\n",
    "    counts = torch.bincount(labels)\n",
    "\n",
    "    # calculate the weights for each class\n",
    "    weights = 1.0 / counts.float()\n",
    "\n",
    "    # create a weight vector for each index in the dataset\n",
    "    sample_weights = weights[labels]\n",
    "\n",
    "    # set the number of samples for the train set and the test set\n",
    "    train_size = number_instances_over_under_sampling_ * 7 * 0.8\n",
    "    val_size = number_instances_over_under_sampling_ * 7 * 0.1\n",
    "    test_size = number_instances_over_under_sampling_ * 7 * 0.1\n",
    "\n",
    "    # crea un sampler per il train set and one for the test set\n",
    "    train_sampler = torch.utils.data.WeightedRandomSampler(sample_weights, int(train_size))\n",
    "    val_sampler = torch.utils.data.WeightedRandomSampler(sample_weights, int(val_size))\n",
    "    test_sampler = torch.utils.data.WeightedRandomSampler(sample_weights, int(test_size))\n",
    "\n",
    "    # create a dataloader for the train set and the test set with the corresponding samplers\n",
    "    train_loader = DataLoader(dataset, batch_size=batch_size_, sampler=train_sampler, num_workers=4)\n",
    "    val_loader = DataLoader(dataset, batch_size=batch_size_, sampler=val_sampler, num_workers=4)\n",
    "    test_loader = DataLoader(dataset, batch_size=batch_size_, sampler=test_sampler, num_workers=4)\n",
    "\n",
    "    your_label_mapping = {0: 'Angry', 1: 'Disgust', 2: 'Fear', 3: 'Happy', 4: 'Neutral', 5: 'Sad', 6: 'Surprise'}\n",
    "\n",
    "    # Settings\n",
    "    num_epochs = epochs_\n",
    "    early_stopping_patience = 3  # numbers of epochs with no improvement after which training will be stopped (early stopping)\n",
    "    best_accuracy = 0.0\n",
    "    best_epoch = 0\n",
    "    no_improvement_count = 0\n",
    "\n",
    "    train_loss = 0.0\n",
    "    train_accuracy = 0.0\n",
    "    train_metrics_per_class = {}\n",
    "\n",
    "    val_loss = 0.0\n",
    "    val_accuracy = 0.0\n",
    "    val_metrics_per_class = {}\n",
    "\n",
    "    # Training cycle\n",
    "    for epoch in range(num_epochs):\n",
    "        # Training\n",
    "        train_loss, train_accuracy, train_metrics_per_class = train_epoch(net, train_loader, criterion, optimizer, device, your_label_mapping)\n",
    "\n",
    "        # Validation\n",
    "        val_loss, val_accuracy, val_metrics_per_class = evaluate(net, val_loader, criterion, device, your_label_mapping)\n",
    "\n",
    "        # Scheduler step based on validation accuracy\n",
    "        scheduler.step(val_accuracy)\n",
    "\n",
    "        # Saving the model if the current accuracy is better than the best\n",
    "        if val_accuracy > best_accuracy:\n",
    "            best_accuracy = val_accuracy\n",
    "            best_epoch = epoch\n",
    "            torch.save(net.state_dict(), r'C:\\Users\\marco\\OneDrive\\Documenti\\CV_project\\ComputerVisionProject\\Models\\paper1_models\\best_model.pth')\n",
    "            no_improvement_count = 0\n",
    "        else:\n",
    "            no_improvement_count += 1\n",
    "\n",
    "        # Print epoch statistics\n",
    "        print(f'Epoch {epoch + 1}/{num_epochs} => '\n",
    "            f'Train Loss: {train_loss:.4f}, Train Accuracy: {train_accuracy:.4f}')\n",
    "\n",
    "        # Print metrics per class\n",
    "        for idx, label in your_label_mapping.items():\n",
    "            print(f'{label}: Train Precision: {train_metrics_per_class[idx][\"precision\"]:.4f}, Train Recall: {train_metrics_per_class[idx][\"recall\"]:.4f}, Train F1: {train_metrics_per_class[idx][\"f1\"]:.4f}, Train Support: {train_metrics_per_class[idx][\"support\"]}')\n",
    "\n",
    "        print(f'Validation Loss: {val_loss:.4f}, Validation Accuracy: {val_accuracy:.4f}')\n",
    "        \n",
    "        for idx, label in your_label_mapping.items():\n",
    "            print(f'{label}: Validation Precision: {val_metrics_per_class[idx][\"precision\"]:.4f}, Validation Recall: {val_metrics_per_class[idx][\"recall\"]:.4f}, Validation F1: {val_metrics_per_class[idx][\"f1\"]:.4f}, Validation Support: {val_metrics_per_class[idx][\"support\"]}')\n",
    "\n",
    "        if no_improvement_count >= early_stopping_patience:\n",
    "            print(f'Early stopping at epoch {epoch + 1} as there is no improvement in validation accuracy for {early_stopping_patience} consecutive epochs.')\n",
    "            break\n",
    "\n",
    "    print(f'Best model achieved at epoch {best_epoch + 1} with accuracy {best_accuracy:.4f}')\n",
    "\n",
    "    best_model = EmotionCNN()\n",
    "    best_model.load_state_dict(torch.load(r'C:\\Users\\marco\\OneDrive\\Documenti\\CV_project\\ComputerVisionProject\\Models\\paper1_models\\best_model.pth'))\n",
    "    best_model.to(device)\n",
    "    criterion = nn.CrossEntropyLoss()\n",
    "    optimizer = SGD(net.parameters(), lr=0.01, momentum=0.9, nesterov=True, weight_decay=0.0001)\n",
    "    scheduler = ReduceLROnPlateau(optimizer, mode='max', factor=0.75, patience=5, verbose=True)\n",
    "    test_loss, test_accuracy, test_metrics_per_class = test(best_model, test_loader, criterion, device, your_label_mapping)\n",
    "\n",
    "    best_model = EmotionCNN()\n",
    "    best_model.load_state_dict(torch.load(r'C:\\Users\\marco\\OneDrive\\Documenti\\CV_project\\ComputerVisionProject\\Models\\paper1_models\\best_model.pth'))\n",
    "    best_model.to(device)\n",
    "    criterion = nn.CrossEntropyLoss()\n",
    "    optimizer = SGD(net.parameters(), lr=0.01, momentum=0.9, nesterov=True, weight_decay=0.0001)\n",
    "    scheduler = ReduceLROnPlateau(optimizer, mode='max', factor=0.75, patience=5, verbose=True)\n",
    "    test_loss_, test_accuracy_, test_metrics_per_class_ = test(best_model, test_loader_, criterion, device, your_label_mapping)\n",
    "\n",
    "    print(\"TEST ACCURACY_: \", test_accuracy_)\n",
    "    print(\"TEST ACCURACY: \", test_accuracy)\n",
    "\n",
    "    # log the best model\n",
    "    wandb.log({\"train_loss\": train_loss, \"train_accuracy\": train_accuracy, \"val_loss\": val_loss, \"val_accuracy\": val_accuracy, \"test_accuracy\": test_accuracy, \"test_accuracy_\": test_accuracy_})\n",
    "\n",
    "    # log metrics per class\n",
    "    for idx, label in your_label_mapping.items():\n",
    "        wandb.log({\n",
    "            f'train_precision_{label}': train_metrics_per_class[idx][\"precision\"],\n",
    "            f'train_recall_{label}': train_metrics_per_class[idx][\"recall\"],\n",
    "            f'train_f1_{label}': train_metrics_per_class[idx][\"f1\"],\n",
    "            f'train_support_{label}': train_metrics_per_class[idx][\"support\"],\n",
    "        })\n",
    "\n",
    "    for idx, label in your_label_mapping.items():\n",
    "        wandb.log({\n",
    "            f'val_precision_{label}': val_metrics_per_class[idx][\"precision\"],\n",
    "            f'val_recall_{label}': val_metrics_per_class[idx][\"recall\"],\n",
    "            f'val_f1_{label}': val_metrics_per_class[idx][\"f1\"],\n",
    "            f'val_support_{label}': val_metrics_per_class[idx][\"support\"],\n",
    "        })\n",
    "\n",
    "\n",
    "# sweep configuration\n",
    "sweep_config = {\n",
    "    \"method\": \"grid\",\n",
    "    \"parameters\": {\n",
    "        \"number_instances_over_under_sampling_\": {\"values\": [20000]},\n",
    "        \"batch_size_\": {\"values\": [32]},\n",
    "        \"epochs_\": {\"values\": [15]},\n",
    "    }\n",
    "}\n",
    "\n",
    "# sweep inizialization\n",
    "sweep_id = wandb.sweep(sweep=sweep_config, project=\"provaA1\")\n",
    "\n",
    "# sweep execution\n",
    "wandb.agent(sweep_id, function=train_and_evaluate)"
   ]
  },
  {
   "cell_type": "markdown",
   "metadata": {},
   "source": [
    "**Live emotion detection**"
   ]
  },
  {
   "cell_type": "code",
   "execution_count": null,
   "metadata": {},
   "outputs": [],
   "source": [
    "num_classes = 7\n",
    "your_label_mapping = {0: 'Angry', 1: 'Disgust', 2: 'Fear', 3: 'Happy', 4: 'Neutral', 5: 'Sad', 6: 'Surprise'}\n",
    "model = EmotionCNN(num_classes)\n",
    "\n",
    "device = torch.device(\"cuda\" if torch.cuda.is_available() else \"cpu\")\n",
    "model.load_state_dict(torch.load(\"../../../Models/paper1_models/best_model_paper_1_20_epochs_bs_48_30k.pth\", map_location=device))\n",
    "model.to(device)\n",
    "model.eval() \n",
    "\n",
    "# initialize the face detector\n",
    "detector = dlib.get_frontal_face_detector()\n",
    "\n",
    "# initialize the camera\n",
    "cap = cv2.VideoCapture(0)\n",
    "\n",
    "# apply the transformations to the face image\n",
    "transform = transforms.Compose([\n",
    "    transforms.Grayscale(num_output_channels=1),\n",
    "    transforms.Resize((48, 48)),\n",
    "    transforms.ToTensor(),\n",
    "    transforms.Normalize((0.5,), (0.5,))\n",
    "])\n",
    "\n",
    "while True:\n",
    "    # read a frame from the camera\n",
    "    ret, frame = cap.read()\n",
    "\n",
    "    # faces detection\n",
    "    faces = detector(frame)\n",
    "\n",
    "    # if there is at least one face detected, process the image\n",
    "    if len(faces) > 0:\n",
    "        # take only the first face\n",
    "        face = faces[0]\n",
    "        \n",
    "        # cut the face from the frame\n",
    "        x, y, w, h = face.left(), face.top(), face.width(), face.height()\n",
    "        face_image = frame[y:y+h, x:x+w]\n",
    "\n",
    "        # check if the face image is not empty\n",
    "        if not face_image.size == 0:\n",
    "            # apply the transformations to the face image\n",
    "            pil_image = Image.fromarray(cv2.cvtColor(face_image, cv2.COLOR_BGR2RGB))\n",
    "            input_image = transform(pil_image).unsqueeze(0)  # Aggiunge una dimensione di batch\n",
    "            input_image = input_image.to(device)\n",
    "\n",
    "            # model prediction\n",
    "            with torch.no_grad():\n",
    "                output = model(input_image)\n",
    "\n",
    "            # get the label predicted by the model\n",
    "            _, predicted = torch.max(output, 1)\n",
    "            predicted_emotion = your_label_mapping[predicted.item()]\n",
    "\n",
    "            print(f'Predicted Emotion: {predicted_emotion}')\n",
    "\n",
    "    # show the frame with the face rectangle added\n",
    "    cv2.imshow(\"Face Detection\", frame)\n",
    "\n",
    "    # wait for 2 seconds (time in milliseconds)\n",
    "    cv2.waitKey(1000)\n",
    "\n",
    "    # if q is pressed, terminate the loop\n",
    "    if cv2.waitKey(1) & 0xFF == ord('q'):\n",
    "        break\n",
    "\n",
    "# release the capture\n",
    "cap.release()\n",
    "cv2.destroyAllWindows()"
   ]
  }
 ],
 "metadata": {
  "kernelspec": {
   "display_name": "project-venv",
   "language": "python",
   "name": "python3"
  },
  "language_info": {
   "codemirror_mode": {
    "name": "ipython",
    "version": 3
   },
   "file_extension": ".py",
   "mimetype": "text/x-python",
   "name": "python",
   "nbconvert_exporter": "python",
   "pygments_lexer": "ipython3",
   "version": "3.10.9"
  }
 },
 "nbformat": 4,
 "nbformat_minor": 2
}
