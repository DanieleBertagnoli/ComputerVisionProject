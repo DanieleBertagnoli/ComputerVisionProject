{
 "cells": [
  {
   "cell_type": "code",
   "execution_count": 1,
   "metadata": {},
   "outputs": [
    {
     "name": "stdout",
     "output_type": "stream",
     "text": [
      "Requirement already satisfied: numpy==1.26.2 in /home/daniele/Documents/University/ComputerScience/SY/FS/ComputerVision/ComputerVisionProject/project-venv/lib/python3.10/site-packages (from -r ../requirements.txt (line 1)) (1.26.2)\n",
      "Requirement already satisfied: opencv-python==4.8.1.78 in /home/daniele/Documents/University/ComputerScience/SY/FS/ComputerVision/ComputerVisionProject/project-venv/lib/python3.10/site-packages (from -r ../requirements.txt (line 2)) (4.8.1.78)\n",
      "Note: you may need to restart the kernel to use updated packages.\n"
     ]
    }
   ],
   "source": [
    "%pip install -r ../requirements.txt"
   ]
  }
 ],
 "metadata": {
  "kernelspec": {
   "display_name": "project-venv",
   "language": "python",
   "name": "python3"
  },
  "language_info": {
   "codemirror_mode": {
    "name": "ipython",
    "version": 3
   },
   "file_extension": ".py",
   "mimetype": "text/x-python",
   "name": "python",
   "nbconvert_exporter": "python",
   "pygments_lexer": "ipython3",
   "version": "3.10.12"
  }
 },
 "nbformat": 4,
 "nbformat_minor": 2
}
